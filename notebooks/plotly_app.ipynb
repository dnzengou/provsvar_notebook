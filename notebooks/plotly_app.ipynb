{
 "cells": [
  {
   "cell_type": "code",
   "execution_count": 1,
   "id": "3356a057",
   "metadata": {},
   "outputs": [],
   "source": [
    "# Patient Data 'provsvar' Data Visualization Interfaces in Python With Plotly"
   ]
  },
  {
   "cell_type": "markdown",
   "id": "3ac54b4a",
   "metadata": {},
   "source": [
    "[source](https://dash.plotly.com/datatable/callbacks)"
   ]
  },
  {
   "cell_type": "code",
   "execution_count": 2,
   "id": "3e1902fa",
   "metadata": {},
   "outputs": [],
   "source": [
    "import dash\n",
    "from dash import dcc\n",
    "from dash import html\n",
    "from dash.dependencies import Input, Output\n",
    "from dash import dash_table\n",
    "import pandas as pd\n"
   ]
  },
  {
   "cell_type": "code",
   "execution_count": 7,
   "id": "3272de8e",
   "metadata": {},
   "outputs": [
    {
     "data": {
      "text/html": [
       "<div>\n",
       "<style scoped>\n",
       "    .dataframe tbody tr th:only-of-type {\n",
       "        vertical-align: middle;\n",
       "    }\n",
       "\n",
       "    .dataframe tbody tr th {\n",
       "        vertical-align: top;\n",
       "    }\n",
       "\n",
       "    .dataframe thead th {\n",
       "        text-align: right;\n",
       "    }\n",
       "</style>\n",
       "<table border=\"1\" class=\"dataframe\">\n",
       "  <thead>\n",
       "    <tr style=\"text-align: right;\">\n",
       "      <th></th>\n",
       "      <th>personnummer</th>\n",
       "      <th>provsvarsdate</th>\n",
       "      <th>provsvar1</th>\n",
       "      <th>varde1</th>\n",
       "      <th>bedomning1</th>\n",
       "      <th>provsvar2</th>\n",
       "      <th>varde2</th>\n",
       "      <th>bedomning2</th>\n",
       "      <th>provsvar3</th>\n",
       "      <th>varde3</th>\n",
       "      <th>bedomning3</th>\n",
       "      <th>provsvar4</th>\n",
       "      <th>varde4</th>\n",
       "      <th>bedomning4</th>\n",
       "      <th>provsvar5</th>\n",
       "      <th>varde5</th>\n",
       "      <th>bedomning5</th>\n",
       "      <th>total_bedomning</th>\n",
       "    </tr>\n",
       "  </thead>\n",
       "  <tbody>\n",
       "    <tr>\n",
       "      <th>0</th>\n",
       "      <td>8201113128</td>\n",
       "      <td>22/12/2021</td>\n",
       "      <td>T4, fritt, P-</td>\n",
       "      <td>13</td>\n",
       "      <td>GRON</td>\n",
       "      <td>T3, fritt, P-</td>\n",
       "      <td>4.50</td>\n",
       "      <td>GRON</td>\n",
       "      <td>TSH, P-</td>\n",
       "      <td>1.0</td>\n",
       "      <td>GRON</td>\n",
       "      <td>ASAT, P-</td>\n",
       "      <td>0.49</td>\n",
       "      <td>GRON</td>\n",
       "      <td>ALAT, P-</td>\n",
       "      <td>0.64</td>\n",
       "      <td>GRON</td>\n",
       "      <td>GRON</td>\n",
       "    </tr>\n",
       "    <tr>\n",
       "      <th>1</th>\n",
       "      <td>8201113131</td>\n",
       "      <td>15/12/2021</td>\n",
       "      <td>T4, fritt, P-</td>\n",
       "      <td>17</td>\n",
       "      <td>GRON</td>\n",
       "      <td>T3, P-</td>\n",
       "      <td>0.76</td>\n",
       "      <td>GUL</td>\n",
       "      <td>TSH, P-</td>\n",
       "      <td>2.8</td>\n",
       "      <td>GRON</td>\n",
       "      <td>ASAT, P-</td>\n",
       "      <td>0.59</td>\n",
       "      <td>GRON</td>\n",
       "      <td>ALAT, P-</td>\n",
       "      <td>0.60</td>\n",
       "      <td>GRON</td>\n",
       "      <td>GUL</td>\n",
       "    </tr>\n",
       "    <tr>\n",
       "      <th>2</th>\n",
       "      <td>8201113134</td>\n",
       "      <td>14/12/2021</td>\n",
       "      <td>T4, fritt, P-</td>\n",
       "      <td>16</td>\n",
       "      <td>GRON</td>\n",
       "      <td>T3, P-</td>\n",
       "      <td>1.10</td>\n",
       "      <td>GRON</td>\n",
       "      <td>TSH, P-</td>\n",
       "      <td>5.1</td>\n",
       "      <td>GUL</td>\n",
       "      <td>ASAT, P-</td>\n",
       "      <td>0.40</td>\n",
       "      <td>GRON</td>\n",
       "      <td>ALAT, P-</td>\n",
       "      <td>0.28</td>\n",
       "      <td>GRON</td>\n",
       "      <td>GRON</td>\n",
       "    </tr>\n",
       "  </tbody>\n",
       "</table>\n",
       "</div>"
      ],
      "text/plain": [
       "   personnummer provsvarsdate      provsvar1  varde1 bedomning1  \\\n",
       "0    8201113128    22/12/2021  T4, fritt, P-      13       GRON   \n",
       "1    8201113131    15/12/2021  T4, fritt, P-      17       GRON   \n",
       "2    8201113134    14/12/2021  T4, fritt, P-      16       GRON   \n",
       "\n",
       "       provsvar2  varde2 bedomning2 provsvar3  varde3 bedomning3 provsvar4  \\\n",
       "0  T3, fritt, P-    4.50       GRON   TSH, P-     1.0       GRON  ASAT, P-   \n",
       "1         T3, P-    0.76        GUL   TSH, P-     2.8       GRON  ASAT, P-   \n",
       "2         T3, P-    1.10       GRON   TSH, P-     5.1        GUL  ASAT, P-   \n",
       "\n",
       "   varde4 bedomning4 provsvar5  varde5 bedomning5 total_bedomning  \n",
       "0    0.49       GRON  ALAT, P-    0.64       GRON            GRON  \n",
       "1    0.59       GRON  ALAT, P-    0.60       GRON             GUL  \n",
       "2    0.40       GRON  ALAT, P-    0.28       GRON            GRON  "
      ]
     },
     "execution_count": 7,
     "metadata": {},
     "output_type": "execute_result"
    }
   ],
   "source": [
    "df = pd.read_csv('../data/provsvar_sept_anonym_122021-Blad11_mal_full_clean.csv')\n",
    "\n",
    "df.head(3)\n"
   ]
  },
  {
   "cell_type": "code",
   "execution_count": 4,
   "id": "61c2b0db",
   "metadata": {},
   "outputs": [],
   "source": [
    "df[' index'] = range(1, len(df) + 1)\n",
    "\n",
    "app = dash.Dash(__name__)"
   ]
  },
  {
   "cell_type": "code",
   "execution_count": 5,
   "id": "d3f902f8",
   "metadata": {},
   "outputs": [],
   "source": [
    "PAGE_SIZE = 5\n",
    "\n",
    "app.layout = html.Div([\n",
    "    dash_table.DataTable(\n",
    "        id='datatable-paging-page-count',\n",
    "        columns=[\n",
    "            {\"name\": i, \"id\": i} for i in sorted(df.columns)\n",
    "        ],\n",
    "        page_current=0,\n",
    "        page_size=PAGE_SIZE,\n",
    "        page_action='custom'\n",
    "    ),\n",
    "    html.Br(),\n",
    "    dcc.Checklist(\n",
    "        id='datatable-use-page-count',\n",
    "        options=[\n",
    "            {'label': 'Use page_count', 'value': 'True'}\n",
    "        ],\n",
    "        value=['True']\n",
    "    ),\n",
    "    'Page count: ',\n",
    "    dcc.Input(\n",
    "        id='datatable-page-count',\n",
    "        type='number',\n",
    "        min=1,\n",
    "        max=29,\n",
    "        value=20\n",
    "    )\n",
    "])\n",
    "\n",
    "\n",
    "@app.callback(\n",
    "    Output('datatable-paging-page-count', 'data'),\n",
    "    Input('datatable-paging-page-count', \"page_current\"),\n",
    "    Input('datatable-paging-page-count', \"page_size\"))\n",
    "def update_table(page_current,page_size):\n",
    "    return df.iloc[\n",
    "        page_current*page_size:(page_current+ 1)*page_size\n",
    "    ].to_dict('records')\n",
    "\n",
    "@app.callback(\n",
    "    Output('datatable-paging-page-count', 'page_count'),\n",
    "    Input('datatable-use-page-count', 'value'),\n",
    "    Input('datatable-page-count', 'value'))\n",
    "def update_table(use_page_count, page_count_value):\n",
    "    if len(use_page_count) == 0 or page_count_value is None:\n",
    "        return None\n",
    "    return page_count_value"
   ]
  },
  {
   "cell_type": "code",
   "execution_count": 6,
   "id": "8429d309",
   "metadata": {},
   "outputs": [
    {
     "name": "stdout",
     "output_type": "stream",
     "text": [
      "Dash is running on http://127.0.0.1:8050/\n",
      "\n",
      " * Serving Flask app \"__main__\" (lazy loading)\n",
      " * Environment: production\n",
      "   WARNING: This is a development server. Do not use it in a production deployment.\n",
      "   Use a production WSGI server instead.\n",
      " * Debug mode: on\n"
     ]
    },
    {
     "ename": "SystemExit",
     "evalue": "1",
     "output_type": "error",
     "traceback": [
      "An exception has occurred, use %tb to see the full traceback.\n",
      "\u001b[1;31mSystemExit\u001b[0m\u001b[1;31m:\u001b[0m 1\n"
     ]
    },
    {
     "name": "stderr",
     "output_type": "stream",
     "text": [
      "C:\\Users\\DSINZ1\\Anaconda3\\lib\\site-packages\\IPython\\core\\interactiveshell.py:3445: UserWarning: To exit: use 'exit', 'quit', or Ctrl-D.\n",
      "  warn(\"To exit: use 'exit', 'quit', or Ctrl-D.\", stacklevel=1)\n"
     ]
    }
   ],
   "source": [
    "if __name__ == '__main__':\n",
    "    app.run_server(debug=True)"
   ]
  },
  {
   "cell_type": "code",
   "execution_count": null,
   "id": "d9818f6d",
   "metadata": {},
   "outputs": [],
   "source": []
  }
 ],
 "metadata": {
  "kernelspec": {
   "display_name": "Python 3",
   "language": "python",
   "name": "python3"
  },
  "language_info": {
   "codemirror_mode": {
    "name": "ipython",
    "version": 3
   },
   "file_extension": ".py",
   "mimetype": "text/x-python",
   "name": "python",
   "nbconvert_exporter": "python",
   "pygments_lexer": "ipython3",
   "version": "3.8.8"
  }
 },
 "nbformat": 4,
 "nbformat_minor": 5
}
