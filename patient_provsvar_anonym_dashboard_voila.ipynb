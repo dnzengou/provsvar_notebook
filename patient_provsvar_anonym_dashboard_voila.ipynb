{
  "cells": [
    {
      "cell_type": "markdown",
      "metadata": {
        "id": "cSVp84NivWeJ"
      },
      "source": [
        "# Patient provsvar anonym resultat"
      ]
    },
    {
      "cell_type": "markdown",
      "metadata": {
        "id": "t1sZzdJdvWeN"
      },
      "source": [
        "![SU Image](https://static.nichehuset.dk/annoncer/jobannoncer/images/annoncoerer/logoer/2123/1322.png)"
      ]
    },
    {
      "cell_type": "code",
      "execution_count": null,
      "metadata": {
        "id": "yY_NFST329R1",
        "outputId": "e0ef4bf6-d976-489f-b090-016e13816b67",
        "colab": {
          "base_uri": "https://localhost:8080/"
        }
      },
      "outputs": [
        {
          "output_type": "stream",
          "name": "stdout",
          "text": [
            "Today's date: 2021-12-19\n"
          ]
        }
      ],
      "source": [
        "from datetime import date\n",
        "\n",
        "today = date.today()\n",
        "print(\"Today's date:\", today)"
      ]
    },
    {
      "cell_type": "code",
      "execution_count": null,
      "metadata": {
        "id": "s0U3wnjZ29R3"
      },
      "outputs": [],
      "source": [
        "# Create a requirements text file with all the libraries installed in your environment.\n",
        "#!pip freeze"
      ]
    },
    {
      "cell_type": "code",
      "execution_count": null,
      "metadata": {
        "id": "P9LNc1J_29R4"
      },
      "outputs": [],
      "source": [
        "## Save notebook as pdf\n",
        "# Enter this in the command line\n",
        "\n",
        "#!pip install -U notebook-as-pdf\n",
        "#pyppeteer-install"
      ]
    },
    {
      "cell_type": "code",
      "execution_count": 1,
      "metadata": {
        "scrolled": false,
        "id": "dlfyFsNg29R4",
        "outputId": "fa7738eb-d5c0-4a8d-c834-4912bde4a697",
        "colab": {
          "base_uri": "https://localhost:8080/"
        }
      },
      "outputs": [
        {
          "output_type": "stream",
          "name": "stdout",
          "text": [
            "Requirement already satisfied: seaborn in /usr/local/lib/python3.7/dist-packages (0.11.2)\n",
            "Requirement already satisfied: numpy>=1.15 in /usr/local/lib/python3.7/dist-packages (from seaborn) (1.19.5)\n",
            "Requirement already satisfied: pandas>=0.23 in /usr/local/lib/python3.7/dist-packages (from seaborn) (1.1.5)\n",
            "Requirement already satisfied: scipy>=1.0 in /usr/local/lib/python3.7/dist-packages (from seaborn) (1.4.1)\n",
            "Requirement already satisfied: matplotlib>=2.2 in /usr/local/lib/python3.7/dist-packages (from seaborn) (3.2.2)\n",
            "Requirement already satisfied: python-dateutil>=2.1 in /usr/local/lib/python3.7/dist-packages (from matplotlib>=2.2->seaborn) (2.8.2)\n",
            "Requirement already satisfied: cycler>=0.10 in /usr/local/lib/python3.7/dist-packages (from matplotlib>=2.2->seaborn) (0.11.0)\n",
            "Requirement already satisfied: pyparsing!=2.0.4,!=2.1.2,!=2.1.6,>=2.0.1 in /usr/local/lib/python3.7/dist-packages (from matplotlib>=2.2->seaborn) (3.0.6)\n",
            "Requirement already satisfied: kiwisolver>=1.0.1 in /usr/local/lib/python3.7/dist-packages (from matplotlib>=2.2->seaborn) (1.3.2)\n",
            "Requirement already satisfied: pytz>=2017.2 in /usr/local/lib/python3.7/dist-packages (from pandas>=0.23->seaborn) (2018.9)\n",
            "Requirement already satisfied: six>=1.5 in /usr/local/lib/python3.7/dist-packages (from python-dateutil>=2.1->matplotlib>=2.2->seaborn) (1.15.0)\n"
          ]
        }
      ],
      "source": [
        "!pip install seaborn"
      ]
    },
    {
      "cell_type": "code",
      "execution_count": 2,
      "metadata": {
        "id": "YQ4EoVgzvWeR"
      },
      "outputs": [],
      "source": [
        "# importing libraries\n",
        "\n",
        "from __future__ import print_function\n",
        "from ipywidgets import interact, interactive, fixed, interact_manual\n",
        "from IPython.core.display import display, HTML\n",
        "\n",
        "import numpy as np\n",
        "import pandas as pd\n",
        "import matplotlib.pyplot as plt\n",
        "import plotly.express as px\n",
        "import folium\n",
        "import plotly.graph_objects as go\n",
        "import seaborn as sns\n",
        "import ipywidgets as widgets"
      ]
    },
    {
      "cell_type": "code",
      "execution_count": null,
      "metadata": {
        "scrolled": true,
        "id": "b8IcXy4Q29R6"
      },
      "outputs": [],
      "source": [
        "data1 = pd.read_csv(\"https://raw.githubusercontent.com/dnzengou/provsvar_visu/main/assets/data/provsvar_sept_anonym_122021-Blad11_mal_full.csv\")\n",
        "#data1 = pd.read_csv(\"../assets/data/provsvar_sept_anonym_122021-Blad11_mal_full.csv\")\n",
        "\n",
        "#data1.head()"
      ]
    },
    {
      "cell_type": "code",
      "execution_count": null,
      "metadata": {
        "id": "AOPp1WMg29R7",
        "outputId": "2f169683-86e8-4b47-bb33-930ad0a1eab0",
        "colab": {
          "base_uri": "https://localhost:8080/",
          "height": 374
        }
      },
      "outputs": [
        {
          "output_type": "execute_result",
          "data": {
            "text/html": [
              "\n",
              "  <div id=\"df-8903144b-032e-4818-a7c7-d1e836431b25\">\n",
              "    <div class=\"colab-df-container\">\n",
              "      <div>\n",
              "<style scoped>\n",
              "    .dataframe tbody tr th:only-of-type {\n",
              "        vertical-align: middle;\n",
              "    }\n",
              "\n",
              "    .dataframe tbody tr th {\n",
              "        vertical-align: top;\n",
              "    }\n",
              "\n",
              "    .dataframe thead th {\n",
              "        text-align: right;\n",
              "    }\n",
              "</style>\n",
              "<table border=\"1\" class=\"dataframe\">\n",
              "  <thead>\n",
              "    <tr style=\"text-align: right;\">\n",
              "      <th></th>\n",
              "      <th>personnummer</th>\n",
              "      <th>provsvarsdate</th>\n",
              "      <th>provsvar 1</th>\n",
              "      <th>värde 1</th>\n",
              "      <th>bedömning 1</th>\n",
              "      <th>provsvar 2</th>\n",
              "      <th>värde 2</th>\n",
              "      <th>bedömning 2</th>\n",
              "      <th>provsvar 3</th>\n",
              "      <th>värde 3</th>\n",
              "      <th>bedömning 3</th>\n",
              "      <th>provsvar 4</th>\n",
              "      <th>värde 4</th>\n",
              "      <th>bedömning 4</th>\n",
              "      <th>provsvar 5</th>\n",
              "      <th>värde 5</th>\n",
              "      <th>bedömning 5</th>\n",
              "      <th>total bedomning</th>\n",
              "    </tr>\n",
              "  </thead>\n",
              "  <tbody>\n",
              "    <tr>\n",
              "      <th>0</th>\n",
              "      <td>8201113128</td>\n",
              "      <td>22/12/2021</td>\n",
              "      <td>T4, fritt, P-</td>\n",
              "      <td>13</td>\n",
              "      <td>GRON</td>\n",
              "      <td>T3, fritt, P-</td>\n",
              "      <td>4.50</td>\n",
              "      <td>GRON</td>\n",
              "      <td>TSH, P-</td>\n",
              "      <td>1.0</td>\n",
              "      <td>GRON</td>\n",
              "      <td>ASAT, P-</td>\n",
              "      <td>0.49</td>\n",
              "      <td>GRON</td>\n",
              "      <td>ALAT, P-</td>\n",
              "      <td>0.64</td>\n",
              "      <td>GRON</td>\n",
              "      <td>GRON</td>\n",
              "    </tr>\n",
              "    <tr>\n",
              "      <th>1</th>\n",
              "      <td>8201113131</td>\n",
              "      <td>15/12/2021</td>\n",
              "      <td>T4, fritt, P-</td>\n",
              "      <td>17</td>\n",
              "      <td>GRON</td>\n",
              "      <td>T3, P-</td>\n",
              "      <td>0.76</td>\n",
              "      <td>GUL</td>\n",
              "      <td>TSH, P-</td>\n",
              "      <td>2.8</td>\n",
              "      <td>GRON</td>\n",
              "      <td>ASAT, P-</td>\n",
              "      <td>0.59</td>\n",
              "      <td>GRON</td>\n",
              "      <td>ALAT, P-</td>\n",
              "      <td>0.60</td>\n",
              "      <td>GRON</td>\n",
              "      <td>GUL</td>\n",
              "    </tr>\n",
              "    <tr>\n",
              "      <th>2</th>\n",
              "      <td>8201113134</td>\n",
              "      <td>14/12/2021</td>\n",
              "      <td>T4, fritt, P-</td>\n",
              "      <td>16</td>\n",
              "      <td>GRON</td>\n",
              "      <td>T3, P-</td>\n",
              "      <td>1.10</td>\n",
              "      <td>GRON</td>\n",
              "      <td>TSH, P-</td>\n",
              "      <td>5.1</td>\n",
              "      <td>GUL</td>\n",
              "      <td>ASAT, P-</td>\n",
              "      <td>0.40</td>\n",
              "      <td>GRON</td>\n",
              "      <td>ALAT, P-</td>\n",
              "      <td>0.28</td>\n",
              "      <td>GRON</td>\n",
              "      <td>GRON</td>\n",
              "    </tr>\n",
              "    <tr>\n",
              "      <th>3</th>\n",
              "      <td>8201113137</td>\n",
              "      <td>13/12/2021</td>\n",
              "      <td>T4, fritt, P-</td>\n",
              "      <td>16</td>\n",
              "      <td>GRON</td>\n",
              "      <td>T3, P-</td>\n",
              "      <td>1.00</td>\n",
              "      <td>GRON</td>\n",
              "      <td>TSH, P-</td>\n",
              "      <td>1.8</td>\n",
              "      <td>GRON</td>\n",
              "      <td>ASAT, P-</td>\n",
              "      <td>0.30</td>\n",
              "      <td>GRON</td>\n",
              "      <td>ALAT, P-</td>\n",
              "      <td>0.27</td>\n",
              "      <td>GRON</td>\n",
              "      <td>GRON</td>\n",
              "    </tr>\n",
              "    <tr>\n",
              "      <th>4</th>\n",
              "      <td>8201113140</td>\n",
              "      <td>18/12/2021</td>\n",
              "      <td>T4, fritt, P-</td>\n",
              "      <td>15</td>\n",
              "      <td>GRON</td>\n",
              "      <td>T3, P-</td>\n",
              "      <td>1.30</td>\n",
              "      <td>GRON</td>\n",
              "      <td>TSH, P-</td>\n",
              "      <td>1.1</td>\n",
              "      <td>GRON</td>\n",
              "      <td>ASAT, P-</td>\n",
              "      <td>0.33</td>\n",
              "      <td>GRON</td>\n",
              "      <td>ALAT, P-</td>\n",
              "      <td>0.18</td>\n",
              "      <td>GRON</td>\n",
              "      <td>GRON</td>\n",
              "    </tr>\n",
              "  </tbody>\n",
              "</table>\n",
              "</div>\n",
              "      <button class=\"colab-df-convert\" onclick=\"convertToInteractive('df-8903144b-032e-4818-a7c7-d1e836431b25')\"\n",
              "              title=\"Convert this dataframe to an interactive table.\"\n",
              "              style=\"display:none;\">\n",
              "        \n",
              "  <svg xmlns=\"http://www.w3.org/2000/svg\" height=\"24px\"viewBox=\"0 0 24 24\"\n",
              "       width=\"24px\">\n",
              "    <path d=\"M0 0h24v24H0V0z\" fill=\"none\"/>\n",
              "    <path d=\"M18.56 5.44l.94 2.06.94-2.06 2.06-.94-2.06-.94-.94-2.06-.94 2.06-2.06.94zm-11 1L8.5 8.5l.94-2.06 2.06-.94-2.06-.94L8.5 2.5l-.94 2.06-2.06.94zm10 10l.94 2.06.94-2.06 2.06-.94-2.06-.94-.94-2.06-.94 2.06-2.06.94z\"/><path d=\"M17.41 7.96l-1.37-1.37c-.4-.4-.92-.59-1.43-.59-.52 0-1.04.2-1.43.59L10.3 9.45l-7.72 7.72c-.78.78-.78 2.05 0 2.83L4 21.41c.39.39.9.59 1.41.59.51 0 1.02-.2 1.41-.59l7.78-7.78 2.81-2.81c.8-.78.8-2.07 0-2.86zM5.41 20L4 18.59l7.72-7.72 1.47 1.35L5.41 20z\"/>\n",
              "  </svg>\n",
              "      </button>\n",
              "      \n",
              "  <style>\n",
              "    .colab-df-container {\n",
              "      display:flex;\n",
              "      flex-wrap:wrap;\n",
              "      gap: 12px;\n",
              "    }\n",
              "\n",
              "    .colab-df-convert {\n",
              "      background-color: #E8F0FE;\n",
              "      border: none;\n",
              "      border-radius: 50%;\n",
              "      cursor: pointer;\n",
              "      display: none;\n",
              "      fill: #1967D2;\n",
              "      height: 32px;\n",
              "      padding: 0 0 0 0;\n",
              "      width: 32px;\n",
              "    }\n",
              "\n",
              "    .colab-df-convert:hover {\n",
              "      background-color: #E2EBFA;\n",
              "      box-shadow: 0px 1px 2px rgba(60, 64, 67, 0.3), 0px 1px 3px 1px rgba(60, 64, 67, 0.15);\n",
              "      fill: #174EA6;\n",
              "    }\n",
              "\n",
              "    [theme=dark] .colab-df-convert {\n",
              "      background-color: #3B4455;\n",
              "      fill: #D2E3FC;\n",
              "    }\n",
              "\n",
              "    [theme=dark] .colab-df-convert:hover {\n",
              "      background-color: #434B5C;\n",
              "      box-shadow: 0px 1px 3px 1px rgba(0, 0, 0, 0.15);\n",
              "      filter: drop-shadow(0px 1px 2px rgba(0, 0, 0, 0.3));\n",
              "      fill: #FFFFFF;\n",
              "    }\n",
              "  </style>\n",
              "\n",
              "      <script>\n",
              "        const buttonEl =\n",
              "          document.querySelector('#df-8903144b-032e-4818-a7c7-d1e836431b25 button.colab-df-convert');\n",
              "        buttonEl.style.display =\n",
              "          google.colab.kernel.accessAllowed ? 'block' : 'none';\n",
              "\n",
              "        async function convertToInteractive(key) {\n",
              "          const element = document.querySelector('#df-8903144b-032e-4818-a7c7-d1e836431b25');\n",
              "          const dataTable =\n",
              "            await google.colab.kernel.invokeFunction('convertToInteractive',\n",
              "                                                     [key], {});\n",
              "          if (!dataTable) return;\n",
              "\n",
              "          const docLinkHtml = 'Like what you see? Visit the ' +\n",
              "            '<a target=\"_blank\" href=https://colab.research.google.com/notebooks/data_table.ipynb>data table notebook</a>'\n",
              "            + ' to learn more about interactive tables.';\n",
              "          element.innerHTML = '';\n",
              "          dataTable['output_type'] = 'display_data';\n",
              "          await google.colab.output.renderOutput(dataTable, element);\n",
              "          const docLink = document.createElement('div');\n",
              "          docLink.innerHTML = docLinkHtml;\n",
              "          element.appendChild(docLink);\n",
              "        }\n",
              "      </script>\n",
              "    </div>\n",
              "  </div>\n",
              "  "
            ],
            "text/plain": [
              "   personnummer provsvarsdate  ... bedömning 5  total bedomning\n",
              "0    8201113128    22/12/2021  ...        GRON             GRON\n",
              "1    8201113131    15/12/2021  ...        GRON              GUL\n",
              "2    8201113134    14/12/2021  ...        GRON             GRON\n",
              "3    8201113137    13/12/2021  ...        GRON             GRON\n",
              "4    8201113140    18/12/2021  ...        GRON             GRON\n",
              "\n",
              "[5 rows x 18 columns]"
            ]
          },
          "metadata": {},
          "execution_count": 7
        }
      ],
      "source": [
        "# data cleaning\n",
        "\n",
        "# renaming the df column names to lowercase\n",
        "data1.columns = map(str.lower, data1.columns)\n",
        "\n",
        "data1.head()"
      ]
    },
    {
      "cell_type": "code",
      "execution_count": null,
      "metadata": {
        "scrolled": false,
        "id": "HDMEdIKD29R7"
      },
      "outputs": [],
      "source": [
        "#print(data1.columns)"
      ]
    },
    {
      "cell_type": "code",
      "execution_count": null,
      "metadata": {
        "id": "x3yAPadp29R8"
      },
      "outputs": [],
      "source": [
        "data1.rename(columns = {'provsvar 1':'provsvar1', 'provsvar 2':'provsvar2', 'provsvar 3':'provsvar3', 'provsvar 4':'provsvar4', 'provsvar 5':'provsvar5', 'provsvar 6':'provsvar6', 'värde 1':'varde1', 'värde 2':'varde2', 'värde 3':'varde3', 'värde 4':'varde4', 'värde 5':'varde5',\n",
        "                              'värde 6':'varde6', 'bedömning 1':'bedomning1', 'bedömning 2':'bedomning2', 'bedömning 3':'bedomning3', 'bedömning 4':'bedomning4', 'bedömning 5':'bedomning5', 'total bedomning':'total_bedomning'}, inplace = True)\n",
        "#df1 = data1.rename(columns = {'total bedomning':'total_bedomning'}, inplace = True)\n"
      ]
    },
    {
      "cell_type": "code",
      "execution_count": null,
      "metadata": {
        "id": "8C_05alF29R9"
      },
      "outputs": [],
      "source": [
        "# total number of confirmed, death and recovered cases\n",
        "data1_total = int(data1['total_bedomning'].count())\n",
        "\n",
        "#data1_total"
      ]
    },
    {
      "cell_type": "code",
      "execution_count": null,
      "metadata": {
        "id": "WAAkljg929R9"
      },
      "outputs": [],
      "source": [
        "# counting unique values\n",
        "unique_values = len(pd.unique(data1['total_bedomning']))\n",
        "  \n",
        "#print(\"No.of.unique values :\", unique_values)"
      ]
    },
    {
      "cell_type": "code",
      "execution_count": null,
      "metadata": {
        "id": "ustpw5ms29R9"
      },
      "outputs": [],
      "source": [
        "data1_mean_varde1 = int(data1['varde1'].mean())\n",
        "\n",
        "#data1_mean_varde1"
      ]
    },
    {
      "cell_type": "code",
      "execution_count": null,
      "metadata": {
        "id": "1zSxGUF-29R-"
      },
      "outputs": [],
      "source": [
        "data1_mean_varde2 = int(data1['varde2'].mean())\n",
        "\n",
        "#data1_mean_varde2"
      ]
    },
    {
      "cell_type": "code",
      "execution_count": null,
      "metadata": {
        "id": "CY9yeLEB29R-"
      },
      "outputs": [],
      "source": [
        "data1_mean_varde3 = int(data1['varde3'].mean())\n",
        "\n",
        "#data1_mean_varde3"
      ]
    },
    {
      "cell_type": "code",
      "execution_count": null,
      "metadata": {
        "id": "5K-Ilkmz29R-"
      },
      "outputs": [],
      "source": [
        "data1_mean_varde4 = int(data1['varde4'].mean())\n",
        "\n",
        "#data1_mean_varde4"
      ]
    },
    {
      "cell_type": "code",
      "execution_count": null,
      "metadata": {
        "id": "NyeA-ikM29R_"
      },
      "outputs": [],
      "source": [
        "data1_mean_varde5 = int(data1['varde5'].mean())\n",
        "\n",
        "#data1_mean_varde5"
      ]
    },
    {
      "cell_type": "code",
      "execution_count": null,
      "metadata": {
        "colab": {
          "base_uri": "https://localhost:8080/",
          "height": 151
        },
        "id": "kQZZdXPUvWfs",
        "outputId": "9c449e42-5b36-430b-a3ed-0ab71bf47460"
      },
      "outputs": [
        {
          "output_type": "display_data",
          "data": {
            "text/html": [
              "<div style = 'background-color: darkblue; padding: 30px '><span style='color: #fff; font-size:30px;'> Total bedömning: 40</span><span style='color: red; font-size:30px;margin-left:20px;'> medelvärde 1: 14</span><span style='color: lightgreen; font-size:30px; margin-left:20px;'> medelvärde 2: 1</span><span style='color: lightblue; font-size:30px; margin-left:20px;'> medelvärde 3: 2</span><span style='color: lightyellow; font-size:30px; margin-left:20px;'> medelvärde 4: 0</span><span style='color: lightpink; font-size:30px; margin-left:20px;'> medelvärde 5: 0</span></div>"
            ],
            "text/plain": [
              "<IPython.core.display.HTML object>"
            ]
          },
          "metadata": {}
        }
      ],
      "source": [
        "# displaying the total stats\n",
        "\n",
        "display(HTML(\"<div style = 'background-color: darkblue; padding: 30px '>\" +\n",
        "             \"<span style='color: #fff; font-size:30px;'> Total bedömning: \"  + str(data1_total) +\"</span>\" +\n",
        "             \"<span style='color: red; font-size:30px;margin-left:20px;'> medelvärde 1: \" + str(data1_mean_varde1) + \"</span>\"+\n",
        "             \"<span style='color: lightgreen; font-size:30px; margin-left:20px;'> medelvärde 2: \" + str(data1_mean_varde2) + \"</span>\"+\n",
        "             \"<span style='color: lightblue; font-size:30px; margin-left:20px;'> medelvärde 3: \" + str(data1_mean_varde3) + \"</span>\"+\n",
        "             \"<span style='color: lightyellow; font-size:30px; margin-left:20px;'> medelvärde 4: \" + str(data1_mean_varde4) + \"</span>\"+\n",
        "             \"<span style='color: lightpink; font-size:30px; margin-left:20px;'> medelvärde 5: \" + str(data1_mean_varde5) + \"</span>\"+\n",
        "             \"</div>\")\n",
        "       )"
      ]
    },
    {
      "cell_type": "markdown",
      "metadata": {
        "id": "xFCdhxHlvWf2"
      },
      "source": [
        "# Patient provsvar och bedömningar"
      ]
    },
    {
      "cell_type": "code",
      "execution_count": null,
      "metadata": {
        "scrolled": true,
        "id": "wcE0Qxuu29SA"
      },
      "outputs": [],
      "source": [
        "## Data cleaninng\n",
        "\n",
        "data1_clean = data1.dropna()\n",
        "\n",
        "#country_df_clean.drop(['people_tested', 'people_hospitalized'], axis=1)\n",
        "#country_df_clean = country_df.drop(columns=['people_tested', 'people_hospitalized'])\n",
        "#data1_clean.head()\n",
        " "
      ]
    },
    {
      "cell_type": "code",
      "execution_count": null,
      "metadata": {
        "id": "tjNYFxxd29SA"
      },
      "outputs": [],
      "source": [
        "#type(data1_clean)"
      ]
    },
    {
      "cell_type": "code",
      "execution_count": null,
      "metadata": {
        "id": "coSygMha29SB"
      },
      "outputs": [],
      "source": [
        "#print(data1_clean.columns)"
      ]
    },
    {
      "cell_type": "code",
      "execution_count": null,
      "metadata": {
        "scrolled": true,
        "id": "F-1nca7829SB"
      },
      "outputs": [],
      "source": [
        "#data1_clean.head()"
      ]
    },
    {
      "cell_type": "markdown",
      "metadata": {
        "id": "KuYhp_Jt29SB"
      },
      "source": [
        "#### Dataset subset by color values (GRON, GUL, RÖD)\n",
        "#### with conditional formatting"
      ]
    },
    {
      "cell_type": "code",
      "execution_count": null,
      "metadata": {
        "id": "PmIaKRGn29SB"
      },
      "outputs": [],
      "source": [
        "## Highlight cells by string value (GRÖN, GUL, RÖD)\n",
        "## source: https://queirozf.com/entries/pandas-dataframe-examples-styling-cells-and-conditional-formatting\n",
        "\n",
        "fig = go.FigureWidget( layout=go.Layout() )\n",
        "\n",
        "def colored_background(cell_value):\n",
        "\n",
        "    highlight_green = 'background-color: green;'\n",
        "    highlight_yellow = 'background-color: yellow;'\n",
        "    highlight_red = 'background-color: red;'\n",
        "    default = ''\n",
        "\n",
        "    if type(cell_value) in [str]:\n",
        "        if cell_value == 'GRON':\n",
        "            return highlight_green\n",
        "        if cell_value == 'GUL':\n",
        "            return highlight_yellow\n",
        "        if cell_value == 'RÖD':\n",
        "            return highlight_red\n",
        "    return default\n",
        "\n",
        "#data1_clean.style.applymap(colored_background)\n"
      ]
    },
    {
      "cell_type": "code",
      "execution_count": null,
      "metadata": {
        "id": "I_bptwyR29SC",
        "outputId": "90a49079-afbe-44bf-a34f-ac46292118bd",
        "colab": {
          "referenced_widgets": [
            "64b896d58d06473397c87dcf60472fdf",
            "ff326057847c44168a656236b9ad9c94",
            "0e0a5bea4efb49c4bf697997cf62feeb",
            "136540850fb84f8aa4ea8d6e90c6a451",
            "f8f6fe1ef3604e94be3f06d7b3e1582d",
            "d5cdbfe5275348f39c4827b022020293",
            "eab13c49553543d09a9846d50e3ac273"
          ],
          "base_uri": "https://localhost:8080/",
          "height": 411
        }
      },
      "outputs": [
        {
          "output_type": "display_data",
          "data": {
            "application/vnd.jupyter.widget-view+json": {
              "model_id": "64b896d58d06473397c87dcf60472fdf",
              "version_minor": 0,
              "version_major": 2
            },
            "text/plain": [
              "interactive(children=(Text(value='10', description='n'), Output()), _dom_classes=('widget-interact',))"
            ]
          },
          "metadata": {}
        }
      ],
      "source": [
        "def show_latest_cases(n):\n",
        "    n = int(n)\n",
        "    return data1_clean.sort_values('provsvarsdate', ascending= False).head(n).style.applymap(colored_background)\n",
        "\n",
        "interact(show_latest_cases, n='10')\n",
        "\n",
        "ipywLayout = widgets.Layout(border='solid 2px green')\n",
        "ipywLayout.display='none' # uncomment this, run cell again - then the graph/figure disappears\n",
        "#widgets.VBox([fig], layout=ipywLayout)"
      ]
    },
    {
      "cell_type": "code",
      "execution_count": null,
      "metadata": {
        "id": "dI7esGIP29SC"
      },
      "outputs": [],
      "source": [
        "# Save as an excel file for later visualization\n",
        "## source: https://stackoverflow.com/questions/47398937/saving-pandas-styler-object-in-anyway\n",
        "n=len(data1_clean) # n = 40\n",
        "\n",
        "data1_clean.sort_values('provsvarsdate', ascending= False).head(n).style.applymap(colored_background) \\\n",
        "   .to_excel('data/provsvar_tabel.xlsx', engine='openpyxl')\n"
      ]
    },
    {
      "cell_type": "code",
      "execution_count": null,
      "metadata": {
        "id": "lOGBCMGL29SC"
      },
      "outputs": [],
      "source": [
        "#### Let's subset the dataset over its total_bedomning different values (GRÖN, GUL, RÖD)\n",
        "\n",
        "#gron = data1_clean[[4,7,10,16,17]=='GRON']\n",
        "\n",
        "# Select rows with last_name equal to some values, all columns\n",
        "data_green = data1_clean.loc[data1_clean['total_bedomning'].isin(['GRON'])]  \n",
        "\n",
        "#gron = data1_clean[data1_clean['bedomning1', 'bedomning2', 'bedomning3', 'bedomning4', 'bedomning5', 'total_bedomning']=='GRON']\n",
        "\n",
        "#data_green.tail(3)"
      ]
    },
    {
      "cell_type": "code",
      "execution_count": null,
      "metadata": {
        "id": "vA0uu5zV29SD"
      },
      "outputs": [],
      "source": [
        "data_yellow = data1_clean[data1_clean['total_bedomning']=='GUL']\n",
        "\n",
        "#data_yellow.tail(3)"
      ]
    },
    {
      "cell_type": "code",
      "execution_count": null,
      "metadata": {
        "scrolled": false,
        "id": "0e3PlWtV29SD"
      },
      "outputs": [],
      "source": [
        "data_red = data1_clean[data1_clean['total_bedomning']=='RÖD']\n",
        "\n",
        "#data_red.tail()"
      ]
    },
    {
      "cell_type": "markdown",
      "metadata": {
        "id": "1b855O0329SD"
      },
      "source": [
        "## Slide to check for the highest 'provsvar' and 'bedomning'"
      ]
    },
    {
      "cell_type": "code",
      "execution_count": null,
      "metadata": {
        "id": "4FS2j7xi29SD",
        "outputId": "47bd0edd-50cb-43e4-b259-c9505ce4af0b",
        "colab": {
          "referenced_widgets": [
            "dfa15dcf4c284f7faa1483a830b677b2",
            "8393e7d461f54938a44863a62b6cab00",
            "ee096c2803124c3bb8ce92c236ea4271",
            "905407a45d83433487f492b8a76cb587",
            "73c6420a11ae4e2497dd36d592800497",
            "9a2c6ec8489f4de596b9fcad2d9ce450",
            "4d621cd439ab4e1d9219752b225eaee4",
            "c36ea677d6584dde992a966c4a6e0398",
            "a5cc58ede0bf4efba91a7fea2b2b7538",
            "75a743a9dbbf43268f767e25618db1a3"
          ],
          "base_uri": "https://localhost:8080/",
          "height": 574
        }
      },
      "outputs": [
        {
          "output_type": "display_data",
          "data": {
            "application/vnd.jupyter.widget-view+json": {
              "model_id": "dfa15dcf4c284f7faa1483a830b677b2",
              "version_minor": 0,
              "version_major": 2
            },
            "text/plain": [
              "interactive(children=(IntSlider(value=10, description='n', max=30, min=-10), Output()), _dom_classes=('widget-…"
            ]
          },
          "metadata": {}
        },
        {
          "output_type": "display_data",
          "data": {
            "application/vnd.jupyter.widget-view+json": {
              "model_id": "c36ea677d6584dde992a966c4a6e0398",
              "version_minor": 0,
              "version_major": 2
            },
            "text/plain": [
              "VBox(children=(FigureWidget({\n",
              "    'data': [], 'layout': {'template': '...'}\n",
              "}),), layout=Layout(border='solid …"
            ]
          },
          "metadata": {}
        }
      ],
      "source": [
        "## plotting the 10 highest prosvar från varde 1, grupperade av bedömningar (GRÖN, GUL och RÖD färger)\n",
        "fig = go.FigureWidget( layout=go.Layout() )\n",
        "\n",
        "def bubble_chart(n):\n",
        "    fig = px.scatter(data1_clean.head(n), x=\"personnummer\", y=\"varde1\", size=\"varde1\", color=\"total_bedomning\",\n",
        "               hover_name=\"personnummer\", size_max=60)\n",
        "    fig.update_layout(\n",
        "    title=str(n) +\" Highest values 1\",\n",
        "    xaxis_title=\"Patient\",\n",
        "    yaxis_title=\"Värde 1\",\n",
        "    width = 700\n",
        "    )\n",
        "    fig.show();\n",
        "\n",
        "interact(bubble_chart, n=10)\n",
        "\n",
        "ipywLayout = widgets.Layout(border='solid 2px green')\n",
        "ipywLayout.display='none'\n",
        "widgets.VBox([fig], layout=ipywLayout)"
      ]
    },
    {
      "cell_type": "code",
      "execution_count": null,
      "metadata": {
        "id": "oadC7U5529SE",
        "outputId": "bb790f10-0012-4f92-f4ba-f1b51230d738",
        "colab": {
          "referenced_widgets": [
            "8debb87b32d941d8ade43861917171c0",
            "548bd9a03ce84e3db6e94a5a0cf85ee8",
            "4fd1d98d37594ee782fff15927b88099",
            "2f9d9bc8c7394e99a3cbded2e4099652",
            "349d3b04ff194faf907fa8e3304b1142",
            "c835ab49ffc64742b39043a39c7a2e6d",
            "4a9af1a06fde42539d32c792026759ef",
            "c6346d19e8b0471a85276c7b291fe9d8",
            "49fcf50d7fb2448ba898140ef21f53a6",
            "fbbbdd477e3545ba87df2a53b20db425"
          ],
          "base_uri": "https://localhost:8080/",
          "height": 574
        }
      },
      "outputs": [
        {
          "output_type": "display_data",
          "data": {
            "application/vnd.jupyter.widget-view+json": {
              "model_id": "8debb87b32d941d8ade43861917171c0",
              "version_minor": 0,
              "version_major": 2
            },
            "text/plain": [
              "interactive(children=(IntSlider(value=10, description='n', max=30, min=-10), Output()), _dom_classes=('widget-…"
            ]
          },
          "metadata": {}
        },
        {
          "output_type": "display_data",
          "data": {
            "application/vnd.jupyter.widget-view+json": {
              "model_id": "c6346d19e8b0471a85276c7b291fe9d8",
              "version_minor": 0,
              "version_major": 2
            },
            "text/plain": [
              "VBox(children=(FigureWidget({\n",
              "    'data': [], 'layout': {'template': '...'}\n",
              "}),), layout=Layout(border='solid …"
            ]
          },
          "metadata": {}
        }
      ],
      "source": [
        "## plotting the 10 highest prosvar från varde 1, grupperade av bedömningar (GRÖN, GUL och RÖD färger)\n",
        "fig = go.FigureWidget( layout=go.Layout() )\n",
        "\n",
        "def bubble_chart(n):\n",
        "    fig = px.scatter(data1_clean.head(n), x=\"personnummer\", y=\"varde2\", size=\"varde2\", color=\"total_bedomning\",\n",
        "               hover_name=\"personnummer\", size_max=60)\n",
        "    fig.update_layout(\n",
        "    title=str(n) +\" Highest values 2\",\n",
        "    xaxis_title=\"Patient\",\n",
        "    yaxis_title=\"Värde 2\",\n",
        "    width = 700\n",
        "    )\n",
        "    fig.show();\n",
        "\n",
        "interact(bubble_chart, n=10)\n",
        "\n",
        "ipywLayout = widgets.Layout(border='solid 2px green')\n",
        "ipywLayout.display='none'\n",
        "widgets.VBox([fig], layout=ipywLayout)"
      ]
    },
    {
      "cell_type": "code",
      "execution_count": null,
      "metadata": {
        "id": "qBeoCy3929SE",
        "outputId": "1b695f8d-7133-4df2-e94a-062a999cfade",
        "colab": {
          "base_uri": "https://localhost:8080/",
          "height": 542
        }
      },
      "outputs": [
        {
          "output_type": "display_data",
          "data": {
            "text/html": [
              "<html>\n",
              "<head><meta charset=\"utf-8\" /></head>\n",
              "<body>\n",
              "    <div>\n",
              "            <script src=\"https://cdnjs.cloudflare.com/ajax/libs/mathjax/2.7.5/MathJax.js?config=TeX-AMS-MML_SVG\"></script><script type=\"text/javascript\">if (window.MathJax) {MathJax.Hub.Config({SVG: {font: \"STIX-Web\"}});}</script>\n",
              "                <script type=\"text/javascript\">window.PlotlyConfig = {MathJaxConfig: 'local'};</script>\n",
              "        <script src=\"https://cdn.plot.ly/plotly-latest.min.js\"></script>    \n",
              "            <div id=\"d7be694c-757f-434b-8b8a-58f12c7b9b44\" class=\"plotly-graph-div\" style=\"height:525px; width:100%;\"></div>\n",
              "            <script type=\"text/javascript\">\n",
              "                \n",
              "                    window.PLOTLYENV=window.PLOTLYENV || {};\n",
              "                    \n",
              "                if (document.getElementById(\"d7be694c-757f-434b-8b8a-58f12c7b9b44\")) {\n",
              "                    Plotly.newPlot(\n",
              "                        'd7be694c-757f-434b-8b8a-58f12c7b9b44',\n",
              "                        [{\"dimensions\": [{\"axis\": {\"matches\": true}, \"label\": \"varde1\", \"values\": [13, 16, 16, 15, 12, 14, 13, 13, 12, 14, 12, 19, 16, 14, 14, 16, 19, 14, 17, 19, 16, 16, 16, 16, 16, 14, 15, 13, 14, 16, 13, 16, 15, 16, 13, 13]}, {\"axis\": {\"matches\": true}, \"label\": \"varde2\", \"values\": [4.5, 1.1, 1.0, 1.3, 0.91, 1.3, 1.5, 3.8, 1.1, 1.2, 1.2, 3.8, 0.93, 3.3, 4.2, 1.3, 0.72, 1.0, 3.6, 3.4, 1.1, 0.87, 1.4, 0.95, 1.2, 0.94, 1.3, 1.4, 0.91, 1.0, 0.92, 0.75, 1.1, 1.2, 1.3, 1.0]}, {\"axis\": {\"matches\": true}, \"label\": \"varde3\", \"values\": [1.0, 5.1, 1.8, 1.1, 3.2, 0.1, 2.9, 0.1, 4.1, 5.8, 3.8, 0.6, 0.9, 2.1, 1.4, 1.7, 2.3, 1.0, 2.4, 2.7, 0.4, 6.4, 2.9, 1.3, 1.4, 0.9, 1.1, 1.7, 1.7, 1.7, 3.9, 2.2, 1.6, 1.8, 2.3, 2.3]}, {\"axis\": {\"matches\": true}, \"label\": \"varde4\", \"values\": [0.49, 0.4, 0.3, 0.33, 0.66, 0.37, 0.68, 0.63, 0.47, 0.46, 0.55, 0.37, 0.33, 0.26, 0.71, 0.69, 0.27, 0.43, 0.59, 0.45, 0.32, 0.52, 0.44, 0.45, 0.4, 0.29, 0.37, 0.41, 0.4, 0.44, 0.65, 0.37, 0.28, 0.44, 0.79, 0.8]}, {\"axis\": {\"matches\": true}, \"label\": \"varde5\", \"values\": [0.64, 0.28, 0.27, 0.18, 0.36, 0.38, 0.61, 0.47, 0.7, 0.45, 0.37, 0.21, 0.16, 0.14, 0.58, 0.65, 0.22, 0.31, 0.49, 0.29, 0.15, 0.48, 0.72, 0.48, 0.18, 0.34, 0.33, 0.41, 0.31, 0.24, 0.54, 0.32, 0.19, 0.24, 0.92, 0.92]}, {\"axis\": {\"matches\": true}, \"label\": \"total_bedomning\", \"values\": [\"GRON\", \"GRON\", \"GRON\", \"GRON\", \"GRON\", \"GRON\", \"GRON\", \"GRON\", \"GRON\", \"GRON\", \"GRON\", \"GRON\", \"GRON\", \"GRON\", \"GRON\", \"GRON\", \"GRON\", \"GRON\", \"GRON\", \"GRON\", \"GRON\", \"GRON\", \"GRON\", \"GRON\", \"GRON\", \"GRON\", \"GRON\", \"GRON\", \"GRON\", \"GRON\", \"GRON\", \"GRON\", \"GRON\", \"GRON\", \"GRON\", \"GRON\"]}], \"hoverlabel\": {\"namelength\": 0}, \"hovertemplate\": \"total_bedomning=GRON<br>%{xaxis.title.text}=%{x}<br>%{yaxis.title.text}=%{y}\", \"legendgroup\": \"total_bedomning=GRON\", \"marker\": {\"color\": \"#636efa\", \"symbol\": \"circle\"}, \"name\": \"total_bedomning=GRON\", \"showlegend\": true, \"type\": \"splom\"}, {\"dimensions\": [{\"axis\": {\"matches\": true}, \"label\": \"varde1\", \"values\": [17, 14, 11]}, {\"axis\": {\"matches\": true}, \"label\": \"varde2\", \"values\": [0.76, 1.4, 1.2]}, {\"axis\": {\"matches\": true}, \"label\": \"varde3\", \"values\": [2.8, 1.3, 1.7]}, {\"axis\": {\"matches\": true}, \"label\": \"varde4\", \"values\": [0.59, 0.36, 0.56]}, {\"axis\": {\"matches\": true}, \"label\": \"varde5\", \"values\": [0.6, 0.29, 0.59]}, {\"axis\": {\"matches\": true}, \"label\": \"total_bedomning\", \"values\": [\"GUL\", \"GUL\", \"GUL\"]}], \"hoverlabel\": {\"namelength\": 0}, \"hovertemplate\": \"total_bedomning=GUL<br>%{xaxis.title.text}=%{x}<br>%{yaxis.title.text}=%{y}\", \"legendgroup\": \"total_bedomning=GUL\", \"marker\": {\"color\": \"#EF553B\", \"symbol\": \"circle\"}, \"name\": \"total_bedomning=GUL\", \"showlegend\": true, \"type\": \"splom\"}, {\"dimensions\": [{\"axis\": {\"matches\": true}, \"label\": \"varde1\", \"values\": [18]}, {\"axis\": {\"matches\": true}, \"label\": \"varde2\", \"values\": [1.0]}, {\"axis\": {\"matches\": true}, \"label\": \"varde3\", \"values\": [0.3]}, {\"axis\": {\"matches\": true}, \"label\": \"varde4\", \"values\": [0.39]}, {\"axis\": {\"matches\": true}, \"label\": \"varde5\", \"values\": [0.34]}, {\"axis\": {\"matches\": true}, \"label\": \"total_bedomning\", \"values\": [\"R\\u00d6D\"]}], \"hoverlabel\": {\"namelength\": 0}, \"hovertemplate\": \"total_bedomning=R\\u00d6D<br>%{xaxis.title.text}=%{x}<br>%{yaxis.title.text}=%{y}\", \"legendgroup\": \"total_bedomning=R\\u00d6D\", \"marker\": {\"color\": \"#00cc96\", \"symbol\": \"circle\"}, \"name\": \"total_bedomning=R\\u00d6D\", \"showlegend\": true, \"type\": \"splom\"}],\n",
              "                        {\"dragmode\": \"select\", \"legend\": {\"tracegroupgap\": 0}, \"margin\": {\"t\": 60}, \"template\": {\"data\": {\"bar\": [{\"error_x\": {\"color\": \"#2a3f5f\"}, \"error_y\": {\"color\": \"#2a3f5f\"}, \"marker\": {\"line\": {\"color\": \"#E5ECF6\", \"width\": 0.5}}, \"type\": \"bar\"}], \"barpolar\": [{\"marker\": {\"line\": {\"color\": \"#E5ECF6\", \"width\": 0.5}}, \"type\": \"barpolar\"}], \"carpet\": [{\"aaxis\": {\"endlinecolor\": \"#2a3f5f\", \"gridcolor\": \"white\", \"linecolor\": \"white\", \"minorgridcolor\": \"white\", \"startlinecolor\": \"#2a3f5f\"}, \"baxis\": {\"endlinecolor\": \"#2a3f5f\", \"gridcolor\": \"white\", \"linecolor\": \"white\", \"minorgridcolor\": \"white\", \"startlinecolor\": \"#2a3f5f\"}, \"type\": \"carpet\"}], \"choropleth\": [{\"colorbar\": {\"outlinewidth\": 0, \"ticks\": \"\"}, \"type\": \"choropleth\"}], \"contour\": [{\"colorbar\": {\"outlinewidth\": 0, \"ticks\": \"\"}, \"colorscale\": [[0.0, \"#0d0887\"], [0.1111111111111111, \"#46039f\"], [0.2222222222222222, \"#7201a8\"], [0.3333333333333333, \"#9c179e\"], [0.4444444444444444, \"#bd3786\"], [0.5555555555555556, \"#d8576b\"], [0.6666666666666666, \"#ed7953\"], [0.7777777777777778, \"#fb9f3a\"], [0.8888888888888888, \"#fdca26\"], [1.0, \"#f0f921\"]], \"type\": \"contour\"}], \"contourcarpet\": [{\"colorbar\": {\"outlinewidth\": 0, \"ticks\": \"\"}, \"type\": \"contourcarpet\"}], \"heatmap\": [{\"colorbar\": {\"outlinewidth\": 0, \"ticks\": \"\"}, \"colorscale\": [[0.0, \"#0d0887\"], [0.1111111111111111, \"#46039f\"], [0.2222222222222222, \"#7201a8\"], [0.3333333333333333, \"#9c179e\"], [0.4444444444444444, \"#bd3786\"], [0.5555555555555556, \"#d8576b\"], [0.6666666666666666, \"#ed7953\"], [0.7777777777777778, \"#fb9f3a\"], [0.8888888888888888, \"#fdca26\"], [1.0, \"#f0f921\"]], \"type\": \"heatmap\"}], \"heatmapgl\": [{\"colorbar\": {\"outlinewidth\": 0, \"ticks\": \"\"}, \"colorscale\": [[0.0, \"#0d0887\"], [0.1111111111111111, \"#46039f\"], [0.2222222222222222, \"#7201a8\"], [0.3333333333333333, \"#9c179e\"], [0.4444444444444444, \"#bd3786\"], [0.5555555555555556, \"#d8576b\"], [0.6666666666666666, \"#ed7953\"], [0.7777777777777778, \"#fb9f3a\"], [0.8888888888888888, \"#fdca26\"], [1.0, \"#f0f921\"]], \"type\": \"heatmapgl\"}], \"histogram\": [{\"marker\": {\"colorbar\": {\"outlinewidth\": 0, \"ticks\": \"\"}}, \"type\": \"histogram\"}], \"histogram2d\": [{\"colorbar\": {\"outlinewidth\": 0, \"ticks\": \"\"}, \"colorscale\": [[0.0, \"#0d0887\"], [0.1111111111111111, \"#46039f\"], [0.2222222222222222, \"#7201a8\"], [0.3333333333333333, \"#9c179e\"], [0.4444444444444444, \"#bd3786\"], [0.5555555555555556, \"#d8576b\"], [0.6666666666666666, \"#ed7953\"], [0.7777777777777778, \"#fb9f3a\"], [0.8888888888888888, \"#fdca26\"], [1.0, \"#f0f921\"]], \"type\": \"histogram2d\"}], \"histogram2dcontour\": [{\"colorbar\": {\"outlinewidth\": 0, \"ticks\": \"\"}, \"colorscale\": [[0.0, \"#0d0887\"], [0.1111111111111111, \"#46039f\"], [0.2222222222222222, \"#7201a8\"], [0.3333333333333333, \"#9c179e\"], [0.4444444444444444, \"#bd3786\"], [0.5555555555555556, \"#d8576b\"], [0.6666666666666666, \"#ed7953\"], [0.7777777777777778, \"#fb9f3a\"], [0.8888888888888888, \"#fdca26\"], [1.0, \"#f0f921\"]], \"type\": \"histogram2dcontour\"}], \"mesh3d\": [{\"colorbar\": {\"outlinewidth\": 0, \"ticks\": \"\"}, \"type\": \"mesh3d\"}], \"parcoords\": [{\"line\": {\"colorbar\": {\"outlinewidth\": 0, \"ticks\": \"\"}}, \"type\": \"parcoords\"}], \"pie\": [{\"automargin\": true, \"type\": \"pie\"}], \"scatter\": [{\"marker\": {\"colorbar\": {\"outlinewidth\": 0, \"ticks\": \"\"}}, \"type\": \"scatter\"}], \"scatter3d\": [{\"line\": {\"colorbar\": {\"outlinewidth\": 0, \"ticks\": \"\"}}, \"marker\": {\"colorbar\": {\"outlinewidth\": 0, \"ticks\": \"\"}}, \"type\": \"scatter3d\"}], \"scattercarpet\": [{\"marker\": {\"colorbar\": {\"outlinewidth\": 0, \"ticks\": \"\"}}, \"type\": \"scattercarpet\"}], \"scattergeo\": [{\"marker\": {\"colorbar\": {\"outlinewidth\": 0, \"ticks\": \"\"}}, \"type\": \"scattergeo\"}], \"scattergl\": [{\"marker\": {\"colorbar\": {\"outlinewidth\": 0, \"ticks\": \"\"}}, \"type\": \"scattergl\"}], \"scattermapbox\": [{\"marker\": {\"colorbar\": {\"outlinewidth\": 0, \"ticks\": \"\"}}, \"type\": \"scattermapbox\"}], \"scatterpolar\": [{\"marker\": {\"colorbar\": {\"outlinewidth\": 0, \"ticks\": \"\"}}, \"type\": \"scatterpolar\"}], \"scatterpolargl\": [{\"marker\": {\"colorbar\": {\"outlinewidth\": 0, \"ticks\": \"\"}}, \"type\": \"scatterpolargl\"}], \"scatterternary\": [{\"marker\": {\"colorbar\": {\"outlinewidth\": 0, \"ticks\": \"\"}}, \"type\": \"scatterternary\"}], \"surface\": [{\"colorbar\": {\"outlinewidth\": 0, \"ticks\": \"\"}, \"colorscale\": [[0.0, \"#0d0887\"], [0.1111111111111111, \"#46039f\"], [0.2222222222222222, \"#7201a8\"], [0.3333333333333333, \"#9c179e\"], [0.4444444444444444, \"#bd3786\"], [0.5555555555555556, \"#d8576b\"], [0.6666666666666666, \"#ed7953\"], [0.7777777777777778, \"#fb9f3a\"], [0.8888888888888888, \"#fdca26\"], [1.0, \"#f0f921\"]], \"type\": \"surface\"}], \"table\": [{\"cells\": {\"fill\": {\"color\": \"#EBF0F8\"}, \"line\": {\"color\": \"white\"}}, \"header\": {\"fill\": {\"color\": \"#C8D4E3\"}, \"line\": {\"color\": \"white\"}}, \"type\": \"table\"}]}, \"layout\": {\"annotationdefaults\": {\"arrowcolor\": \"#2a3f5f\", \"arrowhead\": 0, \"arrowwidth\": 1}, \"coloraxis\": {\"colorbar\": {\"outlinewidth\": 0, \"ticks\": \"\"}}, \"colorscale\": {\"diverging\": [[0, \"#8e0152\"], [0.1, \"#c51b7d\"], [0.2, \"#de77ae\"], [0.3, \"#f1b6da\"], [0.4, \"#fde0ef\"], [0.5, \"#f7f7f7\"], [0.6, \"#e6f5d0\"], [0.7, \"#b8e186\"], [0.8, \"#7fbc41\"], [0.9, \"#4d9221\"], [1, \"#276419\"]], \"sequential\": [[0.0, \"#0d0887\"], [0.1111111111111111, \"#46039f\"], [0.2222222222222222, \"#7201a8\"], [0.3333333333333333, \"#9c179e\"], [0.4444444444444444, \"#bd3786\"], [0.5555555555555556, \"#d8576b\"], [0.6666666666666666, \"#ed7953\"], [0.7777777777777778, \"#fb9f3a\"], [0.8888888888888888, \"#fdca26\"], [1.0, \"#f0f921\"]], \"sequentialminus\": [[0.0, \"#0d0887\"], [0.1111111111111111, \"#46039f\"], [0.2222222222222222, \"#7201a8\"], [0.3333333333333333, \"#9c179e\"], [0.4444444444444444, \"#bd3786\"], [0.5555555555555556, \"#d8576b\"], [0.6666666666666666, \"#ed7953\"], [0.7777777777777778, \"#fb9f3a\"], [0.8888888888888888, \"#fdca26\"], [1.0, \"#f0f921\"]]}, \"colorway\": [\"#636efa\", \"#EF553B\", \"#00cc96\", \"#ab63fa\", \"#FFA15A\", \"#19d3f3\", \"#FF6692\", \"#B6E880\", \"#FF97FF\", \"#FECB52\"], \"font\": {\"color\": \"#2a3f5f\"}, \"geo\": {\"bgcolor\": \"white\", \"lakecolor\": \"white\", \"landcolor\": \"#E5ECF6\", \"showlakes\": true, \"showland\": true, \"subunitcolor\": \"white\"}, \"hoverlabel\": {\"align\": \"left\"}, \"hovermode\": \"closest\", \"mapbox\": {\"style\": \"light\"}, \"paper_bgcolor\": \"white\", \"plot_bgcolor\": \"#E5ECF6\", \"polar\": {\"angularaxis\": {\"gridcolor\": \"white\", \"linecolor\": \"white\", \"ticks\": \"\"}, \"bgcolor\": \"#E5ECF6\", \"radialaxis\": {\"gridcolor\": \"white\", \"linecolor\": \"white\", \"ticks\": \"\"}}, \"scene\": {\"xaxis\": {\"backgroundcolor\": \"#E5ECF6\", \"gridcolor\": \"white\", \"gridwidth\": 2, \"linecolor\": \"white\", \"showbackground\": true, \"ticks\": \"\", \"zerolinecolor\": \"white\"}, \"yaxis\": {\"backgroundcolor\": \"#E5ECF6\", \"gridcolor\": \"white\", \"gridwidth\": 2, \"linecolor\": \"white\", \"showbackground\": true, \"ticks\": \"\", \"zerolinecolor\": \"white\"}, \"zaxis\": {\"backgroundcolor\": \"#E5ECF6\", \"gridcolor\": \"white\", \"gridwidth\": 2, \"linecolor\": \"white\", \"showbackground\": true, \"ticks\": \"\", \"zerolinecolor\": \"white\"}}, \"shapedefaults\": {\"line\": {\"color\": \"#2a3f5f\"}}, \"ternary\": {\"aaxis\": {\"gridcolor\": \"white\", \"linecolor\": \"white\", \"ticks\": \"\"}, \"baxis\": {\"gridcolor\": \"white\", \"linecolor\": \"white\", \"ticks\": \"\"}, \"bgcolor\": \"#E5ECF6\", \"caxis\": {\"gridcolor\": \"white\", \"linecolor\": \"white\", \"ticks\": \"\"}}, \"title\": {\"x\": 0.05}, \"xaxis\": {\"automargin\": true, \"gridcolor\": \"white\", \"linecolor\": \"white\", \"ticks\": \"\", \"title\": {\"standoff\": 15}, \"zerolinecolor\": \"white\", \"zerolinewidth\": 2}, \"yaxis\": {\"automargin\": true, \"gridcolor\": \"white\", \"linecolor\": \"white\", \"ticks\": \"\", \"title\": {\"standoff\": 15}, \"zerolinecolor\": \"white\", \"zerolinewidth\": 2}}}},\n",
              "                        {\"responsive\": true}\n",
              "                    ).then(function(){\n",
              "                            \n",
              "var gd = document.getElementById('d7be694c-757f-434b-8b8a-58f12c7b9b44');\n",
              "var x = new MutationObserver(function (mutations, observer) {{\n",
              "        var display = window.getComputedStyle(gd).display;\n",
              "        if (!display || display === 'none') {{\n",
              "            console.log([gd, 'removed!']);\n",
              "            Plotly.purge(gd);\n",
              "            observer.disconnect();\n",
              "        }}\n",
              "}});\n",
              "\n",
              "// Listen for the removal of the full notebook cells\n",
              "var notebookContainer = gd.closest('#notebook-container');\n",
              "if (notebookContainer) {{\n",
              "    x.observe(notebookContainer, {childList: true});\n",
              "}}\n",
              "\n",
              "// Listen for the clearing of the current output cell\n",
              "var outputEl = gd.closest('.output');\n",
              "if (outputEl) {{\n",
              "    x.observe(outputEl, {childList: true});\n",
              "}}\n",
              "\n",
              "                        })\n",
              "                };\n",
              "                \n",
              "            </script>\n",
              "        </div>\n",
              "</body>\n",
              "</html>"
            ]
          },
          "metadata": {}
        }
      ],
      "source": [
        "import plotly.express as px\n",
        "\n",
        "fig = px.scatter_matrix(data1_clean, dimensions=['varde1', 'varde2', 'varde3',\n",
        "       'varde4', 'varde5', 'total_bedomning'], color=\"total_bedomning\")\n",
        "fig.show()"
      ]
    },
    {
      "cell_type": "code",
      "execution_count": null,
      "metadata": {
        "id": "Zm_Kwktw29SE"
      },
      "outputs": [],
      "source": [
        "### TO DO:\n",
        "### Set personnummer and/or provsvarsdate as index\n",
        "### Plot timeseries and table searchable by personnummer\n",
        "\n",
        "#data1_clean.set_index(\"personnummer\", inplace=True)\n",
        "\n",
        "#data1_clean.head()\n",
        "#data1_index[8201113179]"
      ]
    },
    {
      "cell_type": "code",
      "execution_count": null,
      "metadata": {
        "id": "9BkMMTX429SF"
      },
      "outputs": [],
      "source": [
        "## Resources\n",
        "## Deploying the Jypter Notebook\n",
        "\n",
        "#!pip install --upgrade pip\n",
        "\n",
        "\n",
        "### Turning our Jupyter notebooks into a standalone web application using Voila Python package\n",
        "# [source](https://towardsdatascience.com/creating-interactive-jupyter-notebooks-and-deployment-on-heroku-using-voila-aa1c115981ca)\n",
        "\n",
        "#### Install voila from the command line\n",
        "#```\n",
        "#pip install voila\n",
        "#pip install voila-material (optional)\n",
        "#pip install voila-material\n",
        "#```\n",
        "\n",
        "#### After installation,  run the command in any terminal\n",
        "#```\n",
        "#voila patient_provsvar_anonym_dashboard_voila.ipynb \n",
        "#```\n",
        "\n",
        "\n",
        "\n"
      ]
    },
    {
      "cell_type": "code",
      "source": [
        "#!pip install voila\n",
        "#!pip install voila-material"
      ],
      "metadata": {
        "id": "JTqzaHzSuDrN"
      },
      "execution_count": 3,
      "outputs": []
    },
    {
      "cell_type": "code",
      "source": [
        "#!pip freeze"
      ],
      "metadata": {
        "id": "OfPqv75uxFdu"
      },
      "execution_count": 2,
      "outputs": []
    },
    {
      "cell_type": "markdown",
      "metadata": {
        "id": "K3OkZjtyvWhS"
      },
      "source": [
        "## [Notebook](https://github.com/dnzengou/provsvar_visu/su_banner.png)\n",
        "\n",
        "## Link to the analysis and other resources:\n",
        "* [Link to GitHub repo: ](https://github.com/dnzengou/provsvar_visu)\n",
        "* #voila patient_provsvar_anonym_dashboard_voila.ipynb --strip_sources=False\n",
        "* [Link to Author's Youtube: ](https://www.youtube.com/channel/UCH-xwLTKQaABNs2QmGxK2bQ?view_as=subscriber)\n"
      ]
    },
    {
      "cell_type": "code",
      "execution_count": null,
      "metadata": {
        "id": "1dw88xND29SF"
      },
      "outputs": [],
      "source": [
        ""
      ]
    }
  ],
  "metadata": {
    "colab": {
      "collapsed_sections": [],
      "name": "patient_provsvar_anonym_dashboard_voila.ipynb",
      "provenance": []
    },
    "kernelspec": {
      "display_name": "Python 3",
      "language": "python",
      "name": "python3"
    },
    "language_info": {
      "codemirror_mode": {
        "name": "ipython",
        "version": 3
      },
      "file_extension": ".py",
      "mimetype": "text/x-python",
      "name": "python",
      "nbconvert_exporter": "python",
      "pygments_lexer": "ipython3",
      "version": "3.8.8"
    },
    "widgets": {
      "application/vnd.jupyter.widget-state+json": {
        "64b896d58d06473397c87dcf60472fdf": {
          "model_module": "@jupyter-widgets/controls",
          "model_name": "VBoxModel",
          "model_module_version": "1.5.0",
          "state": {
            "_view_name": "VBoxView",
            "_dom_classes": [
              "widget-interact"
            ],
            "_model_name": "VBoxModel",
            "_view_module": "@jupyter-widgets/controls",
            "_model_module_version": "1.5.0",
            "_view_count": null,
            "_view_module_version": "1.5.0",
            "box_style": "",
            "layout": "IPY_MODEL_ff326057847c44168a656236b9ad9c94",
            "_model_module": "@jupyter-widgets/controls",
            "children": [
              "IPY_MODEL_0e0a5bea4efb49c4bf697997cf62feeb",
              "IPY_MODEL_136540850fb84f8aa4ea8d6e90c6a451"
            ]
          }
        },
        "ff326057847c44168a656236b9ad9c94": {
          "model_module": "@jupyter-widgets/base",
          "model_name": "LayoutModel",
          "model_module_version": "1.2.0",
          "state": {
            "_view_name": "LayoutView",
            "grid_template_rows": null,
            "right": null,
            "justify_content": null,
            "_view_module": "@jupyter-widgets/base",
            "overflow": null,
            "_model_module_version": "1.2.0",
            "_view_count": null,
            "flex_flow": null,
            "width": null,
            "min_width": null,
            "border": null,
            "align_items": null,
            "bottom": null,
            "_model_module": "@jupyter-widgets/base",
            "top": null,
            "grid_column": null,
            "overflow_y": null,
            "overflow_x": null,
            "grid_auto_flow": null,
            "grid_area": null,
            "grid_template_columns": null,
            "flex": null,
            "_model_name": "LayoutModel",
            "justify_items": null,
            "grid_row": null,
            "max_height": null,
            "align_content": null,
            "visibility": null,
            "align_self": null,
            "height": null,
            "min_height": null,
            "padding": null,
            "grid_auto_rows": null,
            "grid_gap": null,
            "max_width": null,
            "order": null,
            "_view_module_version": "1.2.0",
            "grid_template_areas": null,
            "object_position": null,
            "object_fit": null,
            "grid_auto_columns": null,
            "margin": null,
            "display": null,
            "left": null
          }
        },
        "0e0a5bea4efb49c4bf697997cf62feeb": {
          "model_module": "@jupyter-widgets/controls",
          "model_name": "TextModel",
          "model_module_version": "1.5.0",
          "state": {
            "_view_name": "TextView",
            "style": "IPY_MODEL_f8f6fe1ef3604e94be3f06d7b3e1582d",
            "_dom_classes": [],
            "description": "n",
            "_model_name": "TextModel",
            "placeholder": "​",
            "_view_module": "@jupyter-widgets/controls",
            "_model_module_version": "1.5.0",
            "value": "10",
            "_view_count": null,
            "disabled": false,
            "_view_module_version": "1.5.0",
            "continuous_update": true,
            "description_tooltip": null,
            "_model_module": "@jupyter-widgets/controls",
            "layout": "IPY_MODEL_d5cdbfe5275348f39c4827b022020293"
          }
        },
        "136540850fb84f8aa4ea8d6e90c6a451": {
          "model_module": "@jupyter-widgets/output",
          "model_name": "OutputModel",
          "model_module_version": "1.0.0",
          "state": {
            "_view_name": "OutputView",
            "msg_id": "",
            "_dom_classes": [],
            "_model_name": "OutputModel",
            "outputs": [
              {
                "output_type": "display_data",
                "data": {
                  "text/html": "<style  type=\"text/css\" >\n#T_29165270_611d_11ec_a4e0_0242ac1c0002row0_col4,#T_29165270_611d_11ec_a4e0_0242ac1c0002row0_col7,#T_29165270_611d_11ec_a4e0_0242ac1c0002row0_col10,#T_29165270_611d_11ec_a4e0_0242ac1c0002row0_col13,#T_29165270_611d_11ec_a4e0_0242ac1c0002row0_col16,#T_29165270_611d_11ec_a4e0_0242ac1c0002row1_col4,#T_29165270_611d_11ec_a4e0_0242ac1c0002row1_col7,#T_29165270_611d_11ec_a4e0_0242ac1c0002row1_col13,#T_29165270_611d_11ec_a4e0_0242ac1c0002row1_col16,#T_29165270_611d_11ec_a4e0_0242ac1c0002row1_col17,#T_29165270_611d_11ec_a4e0_0242ac1c0002row2_col4,#T_29165270_611d_11ec_a4e0_0242ac1c0002row2_col7,#T_29165270_611d_11ec_a4e0_0242ac1c0002row2_col10,#T_29165270_611d_11ec_a4e0_0242ac1c0002row2_col13,#T_29165270_611d_11ec_a4e0_0242ac1c0002row2_col16,#T_29165270_611d_11ec_a4e0_0242ac1c0002row2_col17,#T_29165270_611d_11ec_a4e0_0242ac1c0002row3_col4,#T_29165270_611d_11ec_a4e0_0242ac1c0002row3_col7,#T_29165270_611d_11ec_a4e0_0242ac1c0002row3_col10,#T_29165270_611d_11ec_a4e0_0242ac1c0002row3_col13,#T_29165270_611d_11ec_a4e0_0242ac1c0002row3_col16,#T_29165270_611d_11ec_a4e0_0242ac1c0002row3_col17,#T_29165270_611d_11ec_a4e0_0242ac1c0002row4_col4,#T_29165270_611d_11ec_a4e0_0242ac1c0002row4_col7,#T_29165270_611d_11ec_a4e0_0242ac1c0002row4_col10,#T_29165270_611d_11ec_a4e0_0242ac1c0002row4_col13,#T_29165270_611d_11ec_a4e0_0242ac1c0002row4_col16,#T_29165270_611d_11ec_a4e0_0242ac1c0002row4_col17,#T_29165270_611d_11ec_a4e0_0242ac1c0002row5_col4,#T_29165270_611d_11ec_a4e0_0242ac1c0002row5_col7,#T_29165270_611d_11ec_a4e0_0242ac1c0002row5_col10,#T_29165270_611d_11ec_a4e0_0242ac1c0002row5_col13,#T_29165270_611d_11ec_a4e0_0242ac1c0002row5_col16,#T_29165270_611d_11ec_a4e0_0242ac1c0002row6_col4,#T_29165270_611d_11ec_a4e0_0242ac1c0002row6_col7,#T_29165270_611d_11ec_a4e0_0242ac1c0002row6_col10,#T_29165270_611d_11ec_a4e0_0242ac1c0002row6_col13,#T_29165270_611d_11ec_a4e0_0242ac1c0002row6_col16,#T_29165270_611d_11ec_a4e0_0242ac1c0002row7_col4,#T_29165270_611d_11ec_a4e0_0242ac1c0002row7_col7,#T_29165270_611d_11ec_a4e0_0242ac1c0002row7_col10,#T_29165270_611d_11ec_a4e0_0242ac1c0002row7_col13,#T_29165270_611d_11ec_a4e0_0242ac1c0002row7_col16,#T_29165270_611d_11ec_a4e0_0242ac1c0002row7_col17,#T_29165270_611d_11ec_a4e0_0242ac1c0002row8_col4,#T_29165270_611d_11ec_a4e0_0242ac1c0002row8_col7,#T_29165270_611d_11ec_a4e0_0242ac1c0002row8_col10,#T_29165270_611d_11ec_a4e0_0242ac1c0002row8_col13,#T_29165270_611d_11ec_a4e0_0242ac1c0002row8_col16,#T_29165270_611d_11ec_a4e0_0242ac1c0002row8_col17,#T_29165270_611d_11ec_a4e0_0242ac1c0002row9_col4,#T_29165270_611d_11ec_a4e0_0242ac1c0002row9_col7,#T_29165270_611d_11ec_a4e0_0242ac1c0002row9_col10,#T_29165270_611d_11ec_a4e0_0242ac1c0002row9_col13,#T_29165270_611d_11ec_a4e0_0242ac1c0002row9_col16,#T_29165270_611d_11ec_a4e0_0242ac1c0002row9_col17{\n            background-color:  green;\n        }#T_29165270_611d_11ec_a4e0_0242ac1c0002row0_col17{\n            background-color:  red;\n        }#T_29165270_611d_11ec_a4e0_0242ac1c0002row1_col10,#T_29165270_611d_11ec_a4e0_0242ac1c0002row5_col17,#T_29165270_611d_11ec_a4e0_0242ac1c0002row6_col17{\n            background-color:  yellow;\n        }</style><table id=\"T_29165270_611d_11ec_a4e0_0242ac1c0002\" class=\"dataframe\"><thead>    <tr>        <th class=\"blank level0\" ></th>        <th class=\"col_heading level0 col0\" >personnummer</th>        <th class=\"col_heading level0 col1\" >provsvarsdate</th>        <th class=\"col_heading level0 col2\" >provsvar1</th>        <th class=\"col_heading level0 col3\" >varde1</th>        <th class=\"col_heading level0 col4\" >bedomning1</th>        <th class=\"col_heading level0 col5\" >provsvar2</th>        <th class=\"col_heading level0 col6\" >varde2</th>        <th class=\"col_heading level0 col7\" >bedomning2</th>        <th class=\"col_heading level0 col8\" >provsvar3</th>        <th class=\"col_heading level0 col9\" >varde3</th>        <th class=\"col_heading level0 col10\" >bedomning3</th>        <th class=\"col_heading level0 col11\" >provsvar4</th>        <th class=\"col_heading level0 col12\" >varde4</th>        <th class=\"col_heading level0 col13\" >bedomning4</th>        <th class=\"col_heading level0 col14\" >provsvar5</th>        <th class=\"col_heading level0 col15\" >varde5</th>        <th class=\"col_heading level0 col16\" >bedomning5</th>        <th class=\"col_heading level0 col17\" >total_bedomning</th>    </tr></thead><tbody>\n                <tr>\n                        <th id=\"T_29165270_611d_11ec_a4e0_0242ac1c0002level0_row0\" class=\"row_heading level0 row0\" >22</th>\n                        <td id=\"T_29165270_611d_11ec_a4e0_0242ac1c0002row0_col0\" class=\"data row0 col0\" >8201113194</td>\n                        <td id=\"T_29165270_611d_11ec_a4e0_0242ac1c0002row0_col1\" class=\"data row0 col1\" >30/11/2021</td>\n                        <td id=\"T_29165270_611d_11ec_a4e0_0242ac1c0002row0_col2\" class=\"data row0 col2\" >T4, fritt, P-</td>\n                        <td id=\"T_29165270_611d_11ec_a4e0_0242ac1c0002row0_col3\" class=\"data row0 col3\" >18</td>\n                        <td id=\"T_29165270_611d_11ec_a4e0_0242ac1c0002row0_col4\" class=\"data row0 col4\" >GRON</td>\n                        <td id=\"T_29165270_611d_11ec_a4e0_0242ac1c0002row0_col5\" class=\"data row0 col5\" >T3, P-</td>\n                        <td id=\"T_29165270_611d_11ec_a4e0_0242ac1c0002row0_col6\" class=\"data row0 col6\" >1.000000</td>\n                        <td id=\"T_29165270_611d_11ec_a4e0_0242ac1c0002row0_col7\" class=\"data row0 col7\" >GRON</td>\n                        <td id=\"T_29165270_611d_11ec_a4e0_0242ac1c0002row0_col8\" class=\"data row0 col8\" >TSH, P-</td>\n                        <td id=\"T_29165270_611d_11ec_a4e0_0242ac1c0002row0_col9\" class=\"data row0 col9\" >0.300000</td>\n                        <td id=\"T_29165270_611d_11ec_a4e0_0242ac1c0002row0_col10\" class=\"data row0 col10\" >GRON</td>\n                        <td id=\"T_29165270_611d_11ec_a4e0_0242ac1c0002row0_col11\" class=\"data row0 col11\" >ASAT, P-</td>\n                        <td id=\"T_29165270_611d_11ec_a4e0_0242ac1c0002row0_col12\" class=\"data row0 col12\" >0.390000</td>\n                        <td id=\"T_29165270_611d_11ec_a4e0_0242ac1c0002row0_col13\" class=\"data row0 col13\" >GRON</td>\n                        <td id=\"T_29165270_611d_11ec_a4e0_0242ac1c0002row0_col14\" class=\"data row0 col14\" >ALAT, P-</td>\n                        <td id=\"T_29165270_611d_11ec_a4e0_0242ac1c0002row0_col15\" class=\"data row0 col15\" >0.340000</td>\n                        <td id=\"T_29165270_611d_11ec_a4e0_0242ac1c0002row0_col16\" class=\"data row0 col16\" >GRON</td>\n                        <td id=\"T_29165270_611d_11ec_a4e0_0242ac1c0002row0_col17\" class=\"data row0 col17\" >RÖD</td>\n            </tr>\n            <tr>\n                        <th id=\"T_29165270_611d_11ec_a4e0_0242ac1c0002level0_row1\" class=\"row_heading level0 row1\" >23</th>\n                        <td id=\"T_29165270_611d_11ec_a4e0_0242ac1c0002row1_col0\" class=\"data row1 col0\" >8201113197</td>\n                        <td id=\"T_29165270_611d_11ec_a4e0_0242ac1c0002row1_col1\" class=\"data row1 col1\" >29/11/2021</td>\n                        <td id=\"T_29165270_611d_11ec_a4e0_0242ac1c0002row1_col2\" class=\"data row1 col2\" >T4, fritt, P-</td>\n                        <td id=\"T_29165270_611d_11ec_a4e0_0242ac1c0002row1_col3\" class=\"data row1 col3\" >16</td>\n                        <td id=\"T_29165270_611d_11ec_a4e0_0242ac1c0002row1_col4\" class=\"data row1 col4\" >GRON</td>\n                        <td id=\"T_29165270_611d_11ec_a4e0_0242ac1c0002row1_col5\" class=\"data row1 col5\" >T3, P-</td>\n                        <td id=\"T_29165270_611d_11ec_a4e0_0242ac1c0002row1_col6\" class=\"data row1 col6\" >0.870000</td>\n                        <td id=\"T_29165270_611d_11ec_a4e0_0242ac1c0002row1_col7\" class=\"data row1 col7\" >GRON</td>\n                        <td id=\"T_29165270_611d_11ec_a4e0_0242ac1c0002row1_col8\" class=\"data row1 col8\" >TSH, P-</td>\n                        <td id=\"T_29165270_611d_11ec_a4e0_0242ac1c0002row1_col9\" class=\"data row1 col9\" >6.400000</td>\n                        <td id=\"T_29165270_611d_11ec_a4e0_0242ac1c0002row1_col10\" class=\"data row1 col10\" >GUL</td>\n                        <td id=\"T_29165270_611d_11ec_a4e0_0242ac1c0002row1_col11\" class=\"data row1 col11\" >ASAT, P-</td>\n                        <td id=\"T_29165270_611d_11ec_a4e0_0242ac1c0002row1_col12\" class=\"data row1 col12\" >0.520000</td>\n                        <td id=\"T_29165270_611d_11ec_a4e0_0242ac1c0002row1_col13\" class=\"data row1 col13\" >GRON</td>\n                        <td id=\"T_29165270_611d_11ec_a4e0_0242ac1c0002row1_col14\" class=\"data row1 col14\" >ALAT, P-</td>\n                        <td id=\"T_29165270_611d_11ec_a4e0_0242ac1c0002row1_col15\" class=\"data row1 col15\" >0.480000</td>\n                        <td id=\"T_29165270_611d_11ec_a4e0_0242ac1c0002row1_col16\" class=\"data row1 col16\" >GRON</td>\n                        <td id=\"T_29165270_611d_11ec_a4e0_0242ac1c0002row1_col17\" class=\"data row1 col17\" >GRON</td>\n            </tr>\n            <tr>\n                        <th id=\"T_29165270_611d_11ec_a4e0_0242ac1c0002level0_row2\" class=\"row_heading level0 row2\" >26</th>\n                        <td id=\"T_29165270_611d_11ec_a4e0_0242ac1c0002row2_col0\" class=\"data row2 col0\" >8201113206</td>\n                        <td id=\"T_29165270_611d_11ec_a4e0_0242ac1c0002row2_col1\" class=\"data row2 col1\" >26/11/2021</td>\n                        <td id=\"T_29165270_611d_11ec_a4e0_0242ac1c0002row2_col2\" class=\"data row2 col2\" >T4, fritt, P-</td>\n                        <td id=\"T_29165270_611d_11ec_a4e0_0242ac1c0002row2_col3\" class=\"data row2 col3\" >16</td>\n                        <td id=\"T_29165270_611d_11ec_a4e0_0242ac1c0002row2_col4\" class=\"data row2 col4\" >GRON</td>\n                        <td id=\"T_29165270_611d_11ec_a4e0_0242ac1c0002row2_col5\" class=\"data row2 col5\" >T3, P-</td>\n                        <td id=\"T_29165270_611d_11ec_a4e0_0242ac1c0002row2_col6\" class=\"data row2 col6\" >1.200000</td>\n                        <td id=\"T_29165270_611d_11ec_a4e0_0242ac1c0002row2_col7\" class=\"data row2 col7\" >GRON</td>\n                        <td id=\"T_29165270_611d_11ec_a4e0_0242ac1c0002row2_col8\" class=\"data row2 col8\" >TSH, P-</td>\n                        <td id=\"T_29165270_611d_11ec_a4e0_0242ac1c0002row2_col9\" class=\"data row2 col9\" >1.400000</td>\n                        <td id=\"T_29165270_611d_11ec_a4e0_0242ac1c0002row2_col10\" class=\"data row2 col10\" >GRON</td>\n                        <td id=\"T_29165270_611d_11ec_a4e0_0242ac1c0002row2_col11\" class=\"data row2 col11\" >ASAT, P-</td>\n                        <td id=\"T_29165270_611d_11ec_a4e0_0242ac1c0002row2_col12\" class=\"data row2 col12\" >0.400000</td>\n                        <td id=\"T_29165270_611d_11ec_a4e0_0242ac1c0002row2_col13\" class=\"data row2 col13\" >GRON</td>\n                        <td id=\"T_29165270_611d_11ec_a4e0_0242ac1c0002row2_col14\" class=\"data row2 col14\" >ALAT, P-</td>\n                        <td id=\"T_29165270_611d_11ec_a4e0_0242ac1c0002row2_col15\" class=\"data row2 col15\" >0.180000</td>\n                        <td id=\"T_29165270_611d_11ec_a4e0_0242ac1c0002row2_col16\" class=\"data row2 col16\" >GRON</td>\n                        <td id=\"T_29165270_611d_11ec_a4e0_0242ac1c0002row2_col17\" class=\"data row2 col17\" >GRON</td>\n            </tr>\n            <tr>\n                        <th id=\"T_29165270_611d_11ec_a4e0_0242ac1c0002level0_row3\" class=\"row_heading level0 row3\" >0</th>\n                        <td id=\"T_29165270_611d_11ec_a4e0_0242ac1c0002row3_col0\" class=\"data row3 col0\" >8201113128</td>\n                        <td id=\"T_29165270_611d_11ec_a4e0_0242ac1c0002row3_col1\" class=\"data row3 col1\" >22/12/2021</td>\n                        <td id=\"T_29165270_611d_11ec_a4e0_0242ac1c0002row3_col2\" class=\"data row3 col2\" >T4, fritt, P-</td>\n                        <td id=\"T_29165270_611d_11ec_a4e0_0242ac1c0002row3_col3\" class=\"data row3 col3\" >13</td>\n                        <td id=\"T_29165270_611d_11ec_a4e0_0242ac1c0002row3_col4\" class=\"data row3 col4\" >GRON</td>\n                        <td id=\"T_29165270_611d_11ec_a4e0_0242ac1c0002row3_col5\" class=\"data row3 col5\" >T3, fritt, P-</td>\n                        <td id=\"T_29165270_611d_11ec_a4e0_0242ac1c0002row3_col6\" class=\"data row3 col6\" >4.500000</td>\n                        <td id=\"T_29165270_611d_11ec_a4e0_0242ac1c0002row3_col7\" class=\"data row3 col7\" >GRON</td>\n                        <td id=\"T_29165270_611d_11ec_a4e0_0242ac1c0002row3_col8\" class=\"data row3 col8\" >TSH, P-</td>\n                        <td id=\"T_29165270_611d_11ec_a4e0_0242ac1c0002row3_col9\" class=\"data row3 col9\" >1.000000</td>\n                        <td id=\"T_29165270_611d_11ec_a4e0_0242ac1c0002row3_col10\" class=\"data row3 col10\" >GRON</td>\n                        <td id=\"T_29165270_611d_11ec_a4e0_0242ac1c0002row3_col11\" class=\"data row3 col11\" >ASAT, P-</td>\n                        <td id=\"T_29165270_611d_11ec_a4e0_0242ac1c0002row3_col12\" class=\"data row3 col12\" >0.490000</td>\n                        <td id=\"T_29165270_611d_11ec_a4e0_0242ac1c0002row3_col13\" class=\"data row3 col13\" >GRON</td>\n                        <td id=\"T_29165270_611d_11ec_a4e0_0242ac1c0002row3_col14\" class=\"data row3 col14\" >ALAT, P-</td>\n                        <td id=\"T_29165270_611d_11ec_a4e0_0242ac1c0002row3_col15\" class=\"data row3 col15\" >0.640000</td>\n                        <td id=\"T_29165270_611d_11ec_a4e0_0242ac1c0002row3_col16\" class=\"data row3 col16\" >GRON</td>\n                        <td id=\"T_29165270_611d_11ec_a4e0_0242ac1c0002row3_col17\" class=\"data row3 col17\" >GRON</td>\n            </tr>\n            <tr>\n                        <th id=\"T_29165270_611d_11ec_a4e0_0242ac1c0002level0_row4\" class=\"row_heading level0 row4\" >16</th>\n                        <td id=\"T_29165270_611d_11ec_a4e0_0242ac1c0002row4_col0\" class=\"data row4 col0\" >8201113176</td>\n                        <td id=\"T_29165270_611d_11ec_a4e0_0242ac1c0002row4_col1\" class=\"data row4 col1\" >22/12/2021</td>\n                        <td id=\"T_29165270_611d_11ec_a4e0_0242ac1c0002row4_col2\" class=\"data row4 col2\" >T4, fritt, P-</td>\n                        <td id=\"T_29165270_611d_11ec_a4e0_0242ac1c0002row4_col3\" class=\"data row4 col3\" >16</td>\n                        <td id=\"T_29165270_611d_11ec_a4e0_0242ac1c0002row4_col4\" class=\"data row4 col4\" >GRON</td>\n                        <td id=\"T_29165270_611d_11ec_a4e0_0242ac1c0002row4_col5\" class=\"data row4 col5\" >T3, P-</td>\n                        <td id=\"T_29165270_611d_11ec_a4e0_0242ac1c0002row4_col6\" class=\"data row4 col6\" >1.300000</td>\n                        <td id=\"T_29165270_611d_11ec_a4e0_0242ac1c0002row4_col7\" class=\"data row4 col7\" >GRON</td>\n                        <td id=\"T_29165270_611d_11ec_a4e0_0242ac1c0002row4_col8\" class=\"data row4 col8\" >TSH, P-</td>\n                        <td id=\"T_29165270_611d_11ec_a4e0_0242ac1c0002row4_col9\" class=\"data row4 col9\" >1.700000</td>\n                        <td id=\"T_29165270_611d_11ec_a4e0_0242ac1c0002row4_col10\" class=\"data row4 col10\" >GRON</td>\n                        <td id=\"T_29165270_611d_11ec_a4e0_0242ac1c0002row4_col11\" class=\"data row4 col11\" >ASAT, P-</td>\n                        <td id=\"T_29165270_611d_11ec_a4e0_0242ac1c0002row4_col12\" class=\"data row4 col12\" >0.690000</td>\n                        <td id=\"T_29165270_611d_11ec_a4e0_0242ac1c0002row4_col13\" class=\"data row4 col13\" >GRON</td>\n                        <td id=\"T_29165270_611d_11ec_a4e0_0242ac1c0002row4_col14\" class=\"data row4 col14\" >ALAT, P-</td>\n                        <td id=\"T_29165270_611d_11ec_a4e0_0242ac1c0002row4_col15\" class=\"data row4 col15\" >0.650000</td>\n                        <td id=\"T_29165270_611d_11ec_a4e0_0242ac1c0002row4_col16\" class=\"data row4 col16\" >GRON</td>\n                        <td id=\"T_29165270_611d_11ec_a4e0_0242ac1c0002row4_col17\" class=\"data row4 col17\" >GRON</td>\n            </tr>\n            <tr>\n                        <th id=\"T_29165270_611d_11ec_a4e0_0242ac1c0002level0_row5\" class=\"row_heading level0 row5\" >30</th>\n                        <td id=\"T_29165270_611d_11ec_a4e0_0242ac1c0002row5_col0\" class=\"data row5 col0\" >8201113218</td>\n                        <td id=\"T_29165270_611d_11ec_a4e0_0242ac1c0002row5_col1\" class=\"data row5 col1\" >22/11/2021</td>\n                        <td id=\"T_29165270_611d_11ec_a4e0_0242ac1c0002row5_col2\" class=\"data row5 col2\" >T4, fritt, P-</td>\n                        <td id=\"T_29165270_611d_11ec_a4e0_0242ac1c0002row5_col3\" class=\"data row5 col3\" >14</td>\n                        <td id=\"T_29165270_611d_11ec_a4e0_0242ac1c0002row5_col4\" class=\"data row5 col4\" >GRON</td>\n                        <td id=\"T_29165270_611d_11ec_a4e0_0242ac1c0002row5_col5\" class=\"data row5 col5\" >T3, P-</td>\n                        <td id=\"T_29165270_611d_11ec_a4e0_0242ac1c0002row5_col6\" class=\"data row5 col6\" >1.400000</td>\n                        <td id=\"T_29165270_611d_11ec_a4e0_0242ac1c0002row5_col7\" class=\"data row5 col7\" >GRON</td>\n                        <td id=\"T_29165270_611d_11ec_a4e0_0242ac1c0002row5_col8\" class=\"data row5 col8\" >TSH, P-</td>\n                        <td id=\"T_29165270_611d_11ec_a4e0_0242ac1c0002row5_col9\" class=\"data row5 col9\" >1.300000</td>\n                        <td id=\"T_29165270_611d_11ec_a4e0_0242ac1c0002row5_col10\" class=\"data row5 col10\" >GRON</td>\n                        <td id=\"T_29165270_611d_11ec_a4e0_0242ac1c0002row5_col11\" class=\"data row5 col11\" >ASAT, P-</td>\n                        <td id=\"T_29165270_611d_11ec_a4e0_0242ac1c0002row5_col12\" class=\"data row5 col12\" >0.360000</td>\n                        <td id=\"T_29165270_611d_11ec_a4e0_0242ac1c0002row5_col13\" class=\"data row5 col13\" >GRON</td>\n                        <td id=\"T_29165270_611d_11ec_a4e0_0242ac1c0002row5_col14\" class=\"data row5 col14\" >ALAT, P-</td>\n                        <td id=\"T_29165270_611d_11ec_a4e0_0242ac1c0002row5_col15\" class=\"data row5 col15\" >0.290000</td>\n                        <td id=\"T_29165270_611d_11ec_a4e0_0242ac1c0002row5_col16\" class=\"data row5 col16\" >GRON</td>\n                        <td id=\"T_29165270_611d_11ec_a4e0_0242ac1c0002row5_col17\" class=\"data row5 col17\" >GUL</td>\n            </tr>\n            <tr>\n                        <th id=\"T_29165270_611d_11ec_a4e0_0242ac1c0002level0_row6\" class=\"row_heading level0 row6\" >31</th>\n                        <td id=\"T_29165270_611d_11ec_a4e0_0242ac1c0002row6_col0\" class=\"data row6 col0\" >8201113221</td>\n                        <td id=\"T_29165270_611d_11ec_a4e0_0242ac1c0002row6_col1\" class=\"data row6 col1\" >21/11/2021</td>\n                        <td id=\"T_29165270_611d_11ec_a4e0_0242ac1c0002row6_col2\" class=\"data row6 col2\" >T4, fritt, P-</td>\n                        <td id=\"T_29165270_611d_11ec_a4e0_0242ac1c0002row6_col3\" class=\"data row6 col3\" >11</td>\n                        <td id=\"T_29165270_611d_11ec_a4e0_0242ac1c0002row6_col4\" class=\"data row6 col4\" >GRON</td>\n                        <td id=\"T_29165270_611d_11ec_a4e0_0242ac1c0002row6_col5\" class=\"data row6 col5\" >T3, P-</td>\n                        <td id=\"T_29165270_611d_11ec_a4e0_0242ac1c0002row6_col6\" class=\"data row6 col6\" >1.200000</td>\n                        <td id=\"T_29165270_611d_11ec_a4e0_0242ac1c0002row6_col7\" class=\"data row6 col7\" >GRON</td>\n                        <td id=\"T_29165270_611d_11ec_a4e0_0242ac1c0002row6_col8\" class=\"data row6 col8\" >TSH, P-</td>\n                        <td id=\"T_29165270_611d_11ec_a4e0_0242ac1c0002row6_col9\" class=\"data row6 col9\" >1.700000</td>\n                        <td id=\"T_29165270_611d_11ec_a4e0_0242ac1c0002row6_col10\" class=\"data row6 col10\" >GRON</td>\n                        <td id=\"T_29165270_611d_11ec_a4e0_0242ac1c0002row6_col11\" class=\"data row6 col11\" >ASAT, P-</td>\n                        <td id=\"T_29165270_611d_11ec_a4e0_0242ac1c0002row6_col12\" class=\"data row6 col12\" >0.560000</td>\n                        <td id=\"T_29165270_611d_11ec_a4e0_0242ac1c0002row6_col13\" class=\"data row6 col13\" >GRON</td>\n                        <td id=\"T_29165270_611d_11ec_a4e0_0242ac1c0002row6_col14\" class=\"data row6 col14\" >ALAT, P-</td>\n                        <td id=\"T_29165270_611d_11ec_a4e0_0242ac1c0002row6_col15\" class=\"data row6 col15\" >0.590000</td>\n                        <td id=\"T_29165270_611d_11ec_a4e0_0242ac1c0002row6_col16\" class=\"data row6 col16\" >GRON</td>\n                        <td id=\"T_29165270_611d_11ec_a4e0_0242ac1c0002row6_col17\" class=\"data row6 col17\" >GUL</td>\n            </tr>\n            <tr>\n                        <th id=\"T_29165270_611d_11ec_a4e0_0242ac1c0002level0_row7\" class=\"row_heading level0 row7\" >28</th>\n                        <td id=\"T_29165270_611d_11ec_a4e0_0242ac1c0002row7_col0\" class=\"data row7 col0\" >8201113212</td>\n                        <td id=\"T_29165270_611d_11ec_a4e0_0242ac1c0002row7_col1\" class=\"data row7 col1\" >20/11/2021</td>\n                        <td id=\"T_29165270_611d_11ec_a4e0_0242ac1c0002row7_col2\" class=\"data row7 col2\" >T4, fritt, P-</td>\n                        <td id=\"T_29165270_611d_11ec_a4e0_0242ac1c0002row7_col3\" class=\"data row7 col3\" >15</td>\n                        <td id=\"T_29165270_611d_11ec_a4e0_0242ac1c0002row7_col4\" class=\"data row7 col4\" >GRON</td>\n                        <td id=\"T_29165270_611d_11ec_a4e0_0242ac1c0002row7_col5\" class=\"data row7 col5\" >T3, P-</td>\n                        <td id=\"T_29165270_611d_11ec_a4e0_0242ac1c0002row7_col6\" class=\"data row7 col6\" >1.300000</td>\n                        <td id=\"T_29165270_611d_11ec_a4e0_0242ac1c0002row7_col7\" class=\"data row7 col7\" >GRON</td>\n                        <td id=\"T_29165270_611d_11ec_a4e0_0242ac1c0002row7_col8\" class=\"data row7 col8\" >TSH, P-</td>\n                        <td id=\"T_29165270_611d_11ec_a4e0_0242ac1c0002row7_col9\" class=\"data row7 col9\" >1.100000</td>\n                        <td id=\"T_29165270_611d_11ec_a4e0_0242ac1c0002row7_col10\" class=\"data row7 col10\" >GRON</td>\n                        <td id=\"T_29165270_611d_11ec_a4e0_0242ac1c0002row7_col11\" class=\"data row7 col11\" >ASAT, P-</td>\n                        <td id=\"T_29165270_611d_11ec_a4e0_0242ac1c0002row7_col12\" class=\"data row7 col12\" >0.370000</td>\n                        <td id=\"T_29165270_611d_11ec_a4e0_0242ac1c0002row7_col13\" class=\"data row7 col13\" >GRON</td>\n                        <td id=\"T_29165270_611d_11ec_a4e0_0242ac1c0002row7_col14\" class=\"data row7 col14\" >ALAT, P-</td>\n                        <td id=\"T_29165270_611d_11ec_a4e0_0242ac1c0002row7_col15\" class=\"data row7 col15\" >0.330000</td>\n                        <td id=\"T_29165270_611d_11ec_a4e0_0242ac1c0002row7_col16\" class=\"data row7 col16\" >GRON</td>\n                        <td id=\"T_29165270_611d_11ec_a4e0_0242ac1c0002row7_col17\" class=\"data row7 col17\" >GRON</td>\n            </tr>\n            <tr>\n                        <th id=\"T_29165270_611d_11ec_a4e0_0242ac1c0002level0_row8\" class=\"row_heading level0 row8\" >29</th>\n                        <td id=\"T_29165270_611d_11ec_a4e0_0242ac1c0002row8_col0\" class=\"data row8 col0\" >8201113215</td>\n                        <td id=\"T_29165270_611d_11ec_a4e0_0242ac1c0002row8_col1\" class=\"data row8 col1\" >20/11/2021</td>\n                        <td id=\"T_29165270_611d_11ec_a4e0_0242ac1c0002row8_col2\" class=\"data row8 col2\" >T4, fritt, P-</td>\n                        <td id=\"T_29165270_611d_11ec_a4e0_0242ac1c0002row8_col3\" class=\"data row8 col3\" >13</td>\n                        <td id=\"T_29165270_611d_11ec_a4e0_0242ac1c0002row8_col4\" class=\"data row8 col4\" >GRON</td>\n                        <td id=\"T_29165270_611d_11ec_a4e0_0242ac1c0002row8_col5\" class=\"data row8 col5\" >T3, P-</td>\n                        <td id=\"T_29165270_611d_11ec_a4e0_0242ac1c0002row8_col6\" class=\"data row8 col6\" >1.400000</td>\n                        <td id=\"T_29165270_611d_11ec_a4e0_0242ac1c0002row8_col7\" class=\"data row8 col7\" >GRON</td>\n                        <td id=\"T_29165270_611d_11ec_a4e0_0242ac1c0002row8_col8\" class=\"data row8 col8\" >TSH, P-</td>\n                        <td id=\"T_29165270_611d_11ec_a4e0_0242ac1c0002row8_col9\" class=\"data row8 col9\" >1.700000</td>\n                        <td id=\"T_29165270_611d_11ec_a4e0_0242ac1c0002row8_col10\" class=\"data row8 col10\" >GRON</td>\n                        <td id=\"T_29165270_611d_11ec_a4e0_0242ac1c0002row8_col11\" class=\"data row8 col11\" >ASAT, P-</td>\n                        <td id=\"T_29165270_611d_11ec_a4e0_0242ac1c0002row8_col12\" class=\"data row8 col12\" >0.410000</td>\n                        <td id=\"T_29165270_611d_11ec_a4e0_0242ac1c0002row8_col13\" class=\"data row8 col13\" >GRON</td>\n                        <td id=\"T_29165270_611d_11ec_a4e0_0242ac1c0002row8_col14\" class=\"data row8 col14\" >ALAT, P-</td>\n                        <td id=\"T_29165270_611d_11ec_a4e0_0242ac1c0002row8_col15\" class=\"data row8 col15\" >0.410000</td>\n                        <td id=\"T_29165270_611d_11ec_a4e0_0242ac1c0002row8_col16\" class=\"data row8 col16\" >GRON</td>\n                        <td id=\"T_29165270_611d_11ec_a4e0_0242ac1c0002row8_col17\" class=\"data row8 col17\" >GRON</td>\n            </tr>\n            <tr>\n                        <th id=\"T_29165270_611d_11ec_a4e0_0242ac1c0002level0_row9\" class=\"row_heading level0 row9\" >32</th>\n                        <td id=\"T_29165270_611d_11ec_a4e0_0242ac1c0002row9_col0\" class=\"data row9 col0\" >8201113224</td>\n                        <td id=\"T_29165270_611d_11ec_a4e0_0242ac1c0002row9_col1\" class=\"data row9 col1\" >20/11/2021</td>\n                        <td id=\"T_29165270_611d_11ec_a4e0_0242ac1c0002row9_col2\" class=\"data row9 col2\" >T4, fritt, P-</td>\n                        <td id=\"T_29165270_611d_11ec_a4e0_0242ac1c0002row9_col3\" class=\"data row9 col3\" >14</td>\n                        <td id=\"T_29165270_611d_11ec_a4e0_0242ac1c0002row9_col4\" class=\"data row9 col4\" >GRON</td>\n                        <td id=\"T_29165270_611d_11ec_a4e0_0242ac1c0002row9_col5\" class=\"data row9 col5\" >T3, P-</td>\n                        <td id=\"T_29165270_611d_11ec_a4e0_0242ac1c0002row9_col6\" class=\"data row9 col6\" >0.910000</td>\n                        <td id=\"T_29165270_611d_11ec_a4e0_0242ac1c0002row9_col7\" class=\"data row9 col7\" >GRON</td>\n                        <td id=\"T_29165270_611d_11ec_a4e0_0242ac1c0002row9_col8\" class=\"data row9 col8\" >TSH, P-</td>\n                        <td id=\"T_29165270_611d_11ec_a4e0_0242ac1c0002row9_col9\" class=\"data row9 col9\" >1.700000</td>\n                        <td id=\"T_29165270_611d_11ec_a4e0_0242ac1c0002row9_col10\" class=\"data row9 col10\" >GRON</td>\n                        <td id=\"T_29165270_611d_11ec_a4e0_0242ac1c0002row9_col11\" class=\"data row9 col11\" >ASAT, P-</td>\n                        <td id=\"T_29165270_611d_11ec_a4e0_0242ac1c0002row9_col12\" class=\"data row9 col12\" >0.400000</td>\n                        <td id=\"T_29165270_611d_11ec_a4e0_0242ac1c0002row9_col13\" class=\"data row9 col13\" >GRON</td>\n                        <td id=\"T_29165270_611d_11ec_a4e0_0242ac1c0002row9_col14\" class=\"data row9 col14\" >ALAT, P-</td>\n                        <td id=\"T_29165270_611d_11ec_a4e0_0242ac1c0002row9_col15\" class=\"data row9 col15\" >0.310000</td>\n                        <td id=\"T_29165270_611d_11ec_a4e0_0242ac1c0002row9_col16\" class=\"data row9 col16\" >GRON</td>\n                        <td id=\"T_29165270_611d_11ec_a4e0_0242ac1c0002row9_col17\" class=\"data row9 col17\" >GRON</td>\n            </tr>\n    </tbody></table>",
                  "text/plain": "<pandas.io.formats.style.Styler at 0x7f55482f5c50>"
                },
                "metadata": {}
              }
            ],
            "_view_module": "@jupyter-widgets/output",
            "_model_module_version": "1.0.0",
            "_view_count": null,
            "_view_module_version": "1.0.0",
            "layout": "IPY_MODEL_eab13c49553543d09a9846d50e3ac273",
            "_model_module": "@jupyter-widgets/output"
          }
        },
        "f8f6fe1ef3604e94be3f06d7b3e1582d": {
          "model_module": "@jupyter-widgets/controls",
          "model_name": "DescriptionStyleModel",
          "model_module_version": "1.5.0",
          "state": {
            "_view_name": "StyleView",
            "_model_name": "DescriptionStyleModel",
            "description_width": "",
            "_view_module": "@jupyter-widgets/base",
            "_model_module_version": "1.5.0",
            "_view_count": null,
            "_view_module_version": "1.2.0",
            "_model_module": "@jupyter-widgets/controls"
          }
        },
        "d5cdbfe5275348f39c4827b022020293": {
          "model_module": "@jupyter-widgets/base",
          "model_name": "LayoutModel",
          "model_module_version": "1.2.0",
          "state": {
            "_view_name": "LayoutView",
            "grid_template_rows": null,
            "right": null,
            "justify_content": null,
            "_view_module": "@jupyter-widgets/base",
            "overflow": null,
            "_model_module_version": "1.2.0",
            "_view_count": null,
            "flex_flow": null,
            "width": null,
            "min_width": null,
            "border": null,
            "align_items": null,
            "bottom": null,
            "_model_module": "@jupyter-widgets/base",
            "top": null,
            "grid_column": null,
            "overflow_y": null,
            "overflow_x": null,
            "grid_auto_flow": null,
            "grid_area": null,
            "grid_template_columns": null,
            "flex": null,
            "_model_name": "LayoutModel",
            "justify_items": null,
            "grid_row": null,
            "max_height": null,
            "align_content": null,
            "visibility": null,
            "align_self": null,
            "height": null,
            "min_height": null,
            "padding": null,
            "grid_auto_rows": null,
            "grid_gap": null,
            "max_width": null,
            "order": null,
            "_view_module_version": "1.2.0",
            "grid_template_areas": null,
            "object_position": null,
            "object_fit": null,
            "grid_auto_columns": null,
            "margin": null,
            "display": null,
            "left": null
          }
        },
        "eab13c49553543d09a9846d50e3ac273": {
          "model_module": "@jupyter-widgets/base",
          "model_name": "LayoutModel",
          "model_module_version": "1.2.0",
          "state": {
            "_view_name": "LayoutView",
            "grid_template_rows": null,
            "right": null,
            "justify_content": null,
            "_view_module": "@jupyter-widgets/base",
            "overflow": null,
            "_model_module_version": "1.2.0",
            "_view_count": null,
            "flex_flow": null,
            "width": null,
            "min_width": null,
            "border": null,
            "align_items": null,
            "bottom": null,
            "_model_module": "@jupyter-widgets/base",
            "top": null,
            "grid_column": null,
            "overflow_y": null,
            "overflow_x": null,
            "grid_auto_flow": null,
            "grid_area": null,
            "grid_template_columns": null,
            "flex": null,
            "_model_name": "LayoutModel",
            "justify_items": null,
            "grid_row": null,
            "max_height": null,
            "align_content": null,
            "visibility": null,
            "align_self": null,
            "height": null,
            "min_height": null,
            "padding": null,
            "grid_auto_rows": null,
            "grid_gap": null,
            "max_width": null,
            "order": null,
            "_view_module_version": "1.2.0",
            "grid_template_areas": null,
            "object_position": null,
            "object_fit": null,
            "grid_auto_columns": null,
            "margin": null,
            "display": null,
            "left": null
          }
        },
        "dfa15dcf4c284f7faa1483a830b677b2": {
          "model_module": "@jupyter-widgets/controls",
          "model_name": "VBoxModel",
          "model_module_version": "1.5.0",
          "state": {
            "_view_name": "VBoxView",
            "_dom_classes": [
              "widget-interact"
            ],
            "_model_name": "VBoxModel",
            "_view_module": "@jupyter-widgets/controls",
            "_model_module_version": "1.5.0",
            "_view_count": null,
            "_view_module_version": "1.5.0",
            "box_style": "",
            "layout": "IPY_MODEL_8393e7d461f54938a44863a62b6cab00",
            "_model_module": "@jupyter-widgets/controls",
            "children": [
              "IPY_MODEL_ee096c2803124c3bb8ce92c236ea4271",
              "IPY_MODEL_905407a45d83433487f492b8a76cb587"
            ]
          }
        },
        "8393e7d461f54938a44863a62b6cab00": {
          "model_module": "@jupyter-widgets/base",
          "model_name": "LayoutModel",
          "model_module_version": "1.2.0",
          "state": {
            "_view_name": "LayoutView",
            "grid_template_rows": null,
            "right": null,
            "justify_content": null,
            "_view_module": "@jupyter-widgets/base",
            "overflow": null,
            "_model_module_version": "1.2.0",
            "_view_count": null,
            "flex_flow": null,
            "width": null,
            "min_width": null,
            "border": null,
            "align_items": null,
            "bottom": null,
            "_model_module": "@jupyter-widgets/base",
            "top": null,
            "grid_column": null,
            "overflow_y": null,
            "overflow_x": null,
            "grid_auto_flow": null,
            "grid_area": null,
            "grid_template_columns": null,
            "flex": null,
            "_model_name": "LayoutModel",
            "justify_items": null,
            "grid_row": null,
            "max_height": null,
            "align_content": null,
            "visibility": null,
            "align_self": null,
            "height": null,
            "min_height": null,
            "padding": null,
            "grid_auto_rows": null,
            "grid_gap": null,
            "max_width": null,
            "order": null,
            "_view_module_version": "1.2.0",
            "grid_template_areas": null,
            "object_position": null,
            "object_fit": null,
            "grid_auto_columns": null,
            "margin": null,
            "display": null,
            "left": null
          }
        },
        "ee096c2803124c3bb8ce92c236ea4271": {
          "model_module": "@jupyter-widgets/controls",
          "model_name": "IntSliderModel",
          "model_module_version": "1.5.0",
          "state": {
            "_view_name": "IntSliderView",
            "style": "IPY_MODEL_73c6420a11ae4e2497dd36d592800497",
            "_dom_classes": [],
            "description": "n",
            "step": 1,
            "_model_name": "IntSliderModel",
            "orientation": "horizontal",
            "max": 30,
            "_view_module": "@jupyter-widgets/controls",
            "_model_module_version": "1.5.0",
            "value": 10,
            "_view_count": null,
            "disabled": false,
            "_view_module_version": "1.5.0",
            "min": -10,
            "continuous_update": true,
            "readout_format": "d",
            "description_tooltip": null,
            "readout": true,
            "_model_module": "@jupyter-widgets/controls",
            "layout": "IPY_MODEL_9a2c6ec8489f4de596b9fcad2d9ce450"
          }
        },
        "905407a45d83433487f492b8a76cb587": {
          "model_module": "@jupyter-widgets/output",
          "model_name": "OutputModel",
          "model_module_version": "1.0.0",
          "state": {
            "_view_name": "OutputView",
            "msg_id": "",
            "_dom_classes": [],
            "_model_name": "OutputModel",
            "outputs": [
              {
                "output_type": "display_data",
                "data": {
                  "text/html": "<html>\n<head><meta charset=\"utf-8\" /></head>\n<body>\n    <div>\n            <script src=\"https://cdnjs.cloudflare.com/ajax/libs/mathjax/2.7.5/MathJax.js?config=TeX-AMS-MML_SVG\"></script><script type=\"text/javascript\">if (window.MathJax) {MathJax.Hub.Config({SVG: {font: \"STIX-Web\"}});}</script>\n                <script type=\"text/javascript\">window.PlotlyConfig = {MathJaxConfig: 'local'};</script>\n        <script src=\"https://cdn.plot.ly/plotly-latest.min.js\"></script>    \n            <div id=\"1d0beb86-b130-43d9-9f87-172d7a51460c\" class=\"plotly-graph-div\" style=\"height:525px; width:700px;\"></div>\n            <script type=\"text/javascript\">\n                \n                    window.PLOTLYENV=window.PLOTLYENV || {};\n                    \n                if (document.getElementById(\"1d0beb86-b130-43d9-9f87-172d7a51460c\")) {\n                    Plotly.newPlot(\n                        '1d0beb86-b130-43d9-9f87-172d7a51460c',\n                        [{\"hoverlabel\": {\"namelength\": 0}, \"hovertemplate\": \"<b>%{hovertext}</b><br><br>total_bedomning=GRON<br>personnummer=%{x}<br>varde1=%{marker.size}\", \"hovertext\": [8201113128.0, 8201113134.0, 8201113137.0, 8201113140.0, 8201113143.0, 8201113146.0, 8201113149.0, 8201113152.0, 8201113155.0], \"legendgroup\": \"total_bedomning=GRON\", \"marker\": {\"color\": \"#636efa\", \"size\": [13, 16, 16, 15, 12, 14, 13, 13, 12], \"sizemode\": \"area\", \"sizeref\": 0.004722222222222222, \"symbol\": \"circle\"}, \"mode\": \"markers\", \"name\": \"total_bedomning=GRON\", \"showlegend\": true, \"type\": \"scatter\", \"x\": [8201113128, 8201113134, 8201113137, 8201113140, 8201113143, 8201113146, 8201113149, 8201113152, 8201113155], \"xaxis\": \"x\", \"y\": [13, 16, 16, 15, 12, 14, 13, 13, 12], \"yaxis\": \"y\"}, {\"hoverlabel\": {\"namelength\": 0}, \"hovertemplate\": \"<b>%{hovertext}</b><br><br>total_bedomning=GUL<br>personnummer=%{x}<br>varde1=%{marker.size}\", \"hovertext\": [8201113131.0], \"legendgroup\": \"total_bedomning=GUL\", \"marker\": {\"color\": \"#EF553B\", \"size\": [17], \"sizemode\": \"area\", \"sizeref\": 0.004722222222222222, \"symbol\": \"circle\"}, \"mode\": \"markers\", \"name\": \"total_bedomning=GUL\", \"showlegend\": true, \"type\": \"scatter\", \"x\": [8201113131], \"xaxis\": \"x\", \"y\": [17], \"yaxis\": \"y\"}],\n                        {\"legend\": {\"itemsizing\": \"constant\", \"tracegroupgap\": 0}, \"margin\": {\"t\": 60}, \"template\": {\"data\": {\"bar\": [{\"error_x\": {\"color\": \"#2a3f5f\"}, \"error_y\": {\"color\": \"#2a3f5f\"}, \"marker\": {\"line\": {\"color\": \"#E5ECF6\", \"width\": 0.5}}, \"type\": \"bar\"}], \"barpolar\": [{\"marker\": {\"line\": {\"color\": \"#E5ECF6\", \"width\": 0.5}}, \"type\": \"barpolar\"}], \"carpet\": [{\"aaxis\": {\"endlinecolor\": \"#2a3f5f\", \"gridcolor\": \"white\", \"linecolor\": \"white\", \"minorgridcolor\": \"white\", \"startlinecolor\": \"#2a3f5f\"}, \"baxis\": {\"endlinecolor\": \"#2a3f5f\", \"gridcolor\": \"white\", \"linecolor\": \"white\", \"minorgridcolor\": \"white\", \"startlinecolor\": \"#2a3f5f\"}, \"type\": \"carpet\"}], \"choropleth\": [{\"colorbar\": {\"outlinewidth\": 0, \"ticks\": \"\"}, \"type\": \"choropleth\"}], \"contour\": [{\"colorbar\": {\"outlinewidth\": 0, \"ticks\": \"\"}, \"colorscale\": [[0.0, \"#0d0887\"], [0.1111111111111111, \"#46039f\"], [0.2222222222222222, \"#7201a8\"], [0.3333333333333333, \"#9c179e\"], [0.4444444444444444, \"#bd3786\"], [0.5555555555555556, \"#d8576b\"], [0.6666666666666666, \"#ed7953\"], [0.7777777777777778, \"#fb9f3a\"], [0.8888888888888888, \"#fdca26\"], [1.0, \"#f0f921\"]], \"type\": \"contour\"}], \"contourcarpet\": [{\"colorbar\": {\"outlinewidth\": 0, \"ticks\": \"\"}, \"type\": \"contourcarpet\"}], \"heatmap\": [{\"colorbar\": {\"outlinewidth\": 0, \"ticks\": \"\"}, \"colorscale\": [[0.0, \"#0d0887\"], [0.1111111111111111, \"#46039f\"], [0.2222222222222222, \"#7201a8\"], [0.3333333333333333, \"#9c179e\"], [0.4444444444444444, \"#bd3786\"], [0.5555555555555556, \"#d8576b\"], [0.6666666666666666, \"#ed7953\"], [0.7777777777777778, \"#fb9f3a\"], [0.8888888888888888, \"#fdca26\"], [1.0, \"#f0f921\"]], \"type\": \"heatmap\"}], \"heatmapgl\": [{\"colorbar\": {\"outlinewidth\": 0, \"ticks\": \"\"}, \"colorscale\": [[0.0, \"#0d0887\"], [0.1111111111111111, \"#46039f\"], [0.2222222222222222, \"#7201a8\"], [0.3333333333333333, \"#9c179e\"], [0.4444444444444444, \"#bd3786\"], [0.5555555555555556, \"#d8576b\"], [0.6666666666666666, \"#ed7953\"], [0.7777777777777778, \"#fb9f3a\"], [0.8888888888888888, \"#fdca26\"], [1.0, \"#f0f921\"]], \"type\": \"heatmapgl\"}], \"histogram\": [{\"marker\": {\"colorbar\": {\"outlinewidth\": 0, \"ticks\": \"\"}}, \"type\": \"histogram\"}], \"histogram2d\": [{\"colorbar\": {\"outlinewidth\": 0, \"ticks\": \"\"}, \"colorscale\": [[0.0, \"#0d0887\"], [0.1111111111111111, \"#46039f\"], [0.2222222222222222, \"#7201a8\"], [0.3333333333333333, \"#9c179e\"], [0.4444444444444444, \"#bd3786\"], [0.5555555555555556, \"#d8576b\"], [0.6666666666666666, \"#ed7953\"], [0.7777777777777778, \"#fb9f3a\"], [0.8888888888888888, \"#fdca26\"], [1.0, \"#f0f921\"]], \"type\": \"histogram2d\"}], \"histogram2dcontour\": [{\"colorbar\": {\"outlinewidth\": 0, \"ticks\": \"\"}, \"colorscale\": [[0.0, \"#0d0887\"], [0.1111111111111111, \"#46039f\"], [0.2222222222222222, \"#7201a8\"], [0.3333333333333333, \"#9c179e\"], [0.4444444444444444, \"#bd3786\"], [0.5555555555555556, \"#d8576b\"], [0.6666666666666666, \"#ed7953\"], [0.7777777777777778, \"#fb9f3a\"], [0.8888888888888888, \"#fdca26\"], [1.0, \"#f0f921\"]], \"type\": \"histogram2dcontour\"}], \"mesh3d\": [{\"colorbar\": {\"outlinewidth\": 0, \"ticks\": \"\"}, \"type\": \"mesh3d\"}], \"parcoords\": [{\"line\": {\"colorbar\": {\"outlinewidth\": 0, \"ticks\": \"\"}}, \"type\": \"parcoords\"}], \"pie\": [{\"automargin\": true, \"type\": \"pie\"}], \"scatter\": [{\"marker\": {\"colorbar\": {\"outlinewidth\": 0, \"ticks\": \"\"}}, \"type\": \"scatter\"}], \"scatter3d\": [{\"line\": {\"colorbar\": {\"outlinewidth\": 0, \"ticks\": \"\"}}, \"marker\": {\"colorbar\": {\"outlinewidth\": 0, \"ticks\": \"\"}}, \"type\": \"scatter3d\"}], \"scattercarpet\": [{\"marker\": {\"colorbar\": {\"outlinewidth\": 0, \"ticks\": \"\"}}, \"type\": \"scattercarpet\"}], \"scattergeo\": [{\"marker\": {\"colorbar\": {\"outlinewidth\": 0, \"ticks\": \"\"}}, \"type\": \"scattergeo\"}], \"scattergl\": [{\"marker\": {\"colorbar\": {\"outlinewidth\": 0, \"ticks\": \"\"}}, \"type\": \"scattergl\"}], \"scattermapbox\": [{\"marker\": {\"colorbar\": {\"outlinewidth\": 0, \"ticks\": \"\"}}, \"type\": \"scattermapbox\"}], \"scatterpolar\": [{\"marker\": {\"colorbar\": {\"outlinewidth\": 0, \"ticks\": \"\"}}, \"type\": \"scatterpolar\"}], \"scatterpolargl\": [{\"marker\": {\"colorbar\": {\"outlinewidth\": 0, \"ticks\": \"\"}}, \"type\": \"scatterpolargl\"}], \"scatterternary\": [{\"marker\": {\"colorbar\": {\"outlinewidth\": 0, \"ticks\": \"\"}}, \"type\": \"scatterternary\"}], \"surface\": [{\"colorbar\": {\"outlinewidth\": 0, \"ticks\": \"\"}, \"colorscale\": [[0.0, \"#0d0887\"], [0.1111111111111111, \"#46039f\"], [0.2222222222222222, \"#7201a8\"], [0.3333333333333333, \"#9c179e\"], [0.4444444444444444, \"#bd3786\"], [0.5555555555555556, \"#d8576b\"], [0.6666666666666666, \"#ed7953\"], [0.7777777777777778, \"#fb9f3a\"], [0.8888888888888888, \"#fdca26\"], [1.0, \"#f0f921\"]], \"type\": \"surface\"}], \"table\": [{\"cells\": {\"fill\": {\"color\": \"#EBF0F8\"}, \"line\": {\"color\": \"white\"}}, \"header\": {\"fill\": {\"color\": \"#C8D4E3\"}, \"line\": {\"color\": \"white\"}}, \"type\": \"table\"}]}, \"layout\": {\"annotationdefaults\": {\"arrowcolor\": \"#2a3f5f\", \"arrowhead\": 0, \"arrowwidth\": 1}, \"coloraxis\": {\"colorbar\": {\"outlinewidth\": 0, \"ticks\": \"\"}}, \"colorscale\": {\"diverging\": [[0, \"#8e0152\"], [0.1, \"#c51b7d\"], [0.2, \"#de77ae\"], [0.3, \"#f1b6da\"], [0.4, \"#fde0ef\"], [0.5, \"#f7f7f7\"], [0.6, \"#e6f5d0\"], [0.7, \"#b8e186\"], [0.8, \"#7fbc41\"], [0.9, \"#4d9221\"], [1, \"#276419\"]], \"sequential\": [[0.0, \"#0d0887\"], [0.1111111111111111, \"#46039f\"], [0.2222222222222222, \"#7201a8\"], [0.3333333333333333, \"#9c179e\"], [0.4444444444444444, \"#bd3786\"], [0.5555555555555556, \"#d8576b\"], [0.6666666666666666, \"#ed7953\"], [0.7777777777777778, \"#fb9f3a\"], [0.8888888888888888, \"#fdca26\"], [1.0, \"#f0f921\"]], \"sequentialminus\": [[0.0, \"#0d0887\"], [0.1111111111111111, \"#46039f\"], [0.2222222222222222, \"#7201a8\"], [0.3333333333333333, \"#9c179e\"], [0.4444444444444444, \"#bd3786\"], [0.5555555555555556, \"#d8576b\"], [0.6666666666666666, \"#ed7953\"], [0.7777777777777778, \"#fb9f3a\"], [0.8888888888888888, \"#fdca26\"], [1.0, \"#f0f921\"]]}, \"colorway\": [\"#636efa\", \"#EF553B\", \"#00cc96\", \"#ab63fa\", \"#FFA15A\", \"#19d3f3\", \"#FF6692\", \"#B6E880\", \"#FF97FF\", \"#FECB52\"], \"font\": {\"color\": \"#2a3f5f\"}, \"geo\": {\"bgcolor\": \"white\", \"lakecolor\": \"white\", \"landcolor\": \"#E5ECF6\", \"showlakes\": true, \"showland\": true, \"subunitcolor\": \"white\"}, \"hoverlabel\": {\"align\": \"left\"}, \"hovermode\": \"closest\", \"mapbox\": {\"style\": \"light\"}, \"paper_bgcolor\": \"white\", \"plot_bgcolor\": \"#E5ECF6\", \"polar\": {\"angularaxis\": {\"gridcolor\": \"white\", \"linecolor\": \"white\", \"ticks\": \"\"}, \"bgcolor\": \"#E5ECF6\", \"radialaxis\": {\"gridcolor\": \"white\", \"linecolor\": \"white\", \"ticks\": \"\"}}, \"scene\": {\"xaxis\": {\"backgroundcolor\": \"#E5ECF6\", \"gridcolor\": \"white\", \"gridwidth\": 2, \"linecolor\": \"white\", \"showbackground\": true, \"ticks\": \"\", \"zerolinecolor\": \"white\"}, \"yaxis\": {\"backgroundcolor\": \"#E5ECF6\", \"gridcolor\": \"white\", \"gridwidth\": 2, \"linecolor\": \"white\", \"showbackground\": true, \"ticks\": \"\", \"zerolinecolor\": \"white\"}, \"zaxis\": {\"backgroundcolor\": \"#E5ECF6\", \"gridcolor\": \"white\", \"gridwidth\": 2, \"linecolor\": \"white\", \"showbackground\": true, \"ticks\": \"\", \"zerolinecolor\": \"white\"}}, \"shapedefaults\": {\"line\": {\"color\": \"#2a3f5f\"}}, \"ternary\": {\"aaxis\": {\"gridcolor\": \"white\", \"linecolor\": \"white\", \"ticks\": \"\"}, \"baxis\": {\"gridcolor\": \"white\", \"linecolor\": \"white\", \"ticks\": \"\"}, \"bgcolor\": \"#E5ECF6\", \"caxis\": {\"gridcolor\": \"white\", \"linecolor\": \"white\", \"ticks\": \"\"}}, \"title\": {\"x\": 0.05}, \"xaxis\": {\"automargin\": true, \"gridcolor\": \"white\", \"linecolor\": \"white\", \"ticks\": \"\", \"title\": {\"standoff\": 15}, \"zerolinecolor\": \"white\", \"zerolinewidth\": 2}, \"yaxis\": {\"automargin\": true, \"gridcolor\": \"white\", \"linecolor\": \"white\", \"ticks\": \"\", \"title\": {\"standoff\": 15}, \"zerolinecolor\": \"white\", \"zerolinewidth\": 2}}}, \"title\": {\"text\": \"10 Highest values 1\"}, \"width\": 700, \"xaxis\": {\"anchor\": \"y\", \"domain\": [0.0, 1.0], \"title\": {\"text\": \"Patient\"}}, \"yaxis\": {\"anchor\": \"x\", \"domain\": [0.0, 1.0], \"title\": {\"text\": \"V\\u00e4rde 1\"}}},\n                        {\"responsive\": true}\n                    ).then(function(){\n                            \nvar gd = document.getElementById('1d0beb86-b130-43d9-9f87-172d7a51460c');\nvar x = new MutationObserver(function (mutations, observer) {{\n        var display = window.getComputedStyle(gd).display;\n        if (!display || display === 'none') {{\n            console.log([gd, 'removed!']);\n            Plotly.purge(gd);\n            observer.disconnect();\n        }}\n}});\n\n// Listen for the removal of the full notebook cells\nvar notebookContainer = gd.closest('#notebook-container');\nif (notebookContainer) {{\n    x.observe(notebookContainer, {childList: true});\n}}\n\n// Listen for the clearing of the current output cell\nvar outputEl = gd.closest('.output');\nif (outputEl) {{\n    x.observe(outputEl, {childList: true});\n}}\n\n                        })\n                };\n                \n            </script>\n        </div>\n</body>\n</html>"
                },
                "metadata": {}
              }
            ],
            "_view_module": "@jupyter-widgets/output",
            "_model_module_version": "1.0.0",
            "_view_count": null,
            "_view_module_version": "1.0.0",
            "layout": "IPY_MODEL_4d621cd439ab4e1d9219752b225eaee4",
            "_model_module": "@jupyter-widgets/output"
          }
        },
        "73c6420a11ae4e2497dd36d592800497": {
          "model_module": "@jupyter-widgets/controls",
          "model_name": "SliderStyleModel",
          "model_module_version": "1.5.0",
          "state": {
            "_view_name": "StyleView",
            "handle_color": null,
            "_model_name": "SliderStyleModel",
            "description_width": "",
            "_view_module": "@jupyter-widgets/base",
            "_model_module_version": "1.5.0",
            "_view_count": null,
            "_view_module_version": "1.2.0",
            "_model_module": "@jupyter-widgets/controls"
          }
        },
        "9a2c6ec8489f4de596b9fcad2d9ce450": {
          "model_module": "@jupyter-widgets/base",
          "model_name": "LayoutModel",
          "model_module_version": "1.2.0",
          "state": {
            "_view_name": "LayoutView",
            "grid_template_rows": null,
            "right": null,
            "justify_content": null,
            "_view_module": "@jupyter-widgets/base",
            "overflow": null,
            "_model_module_version": "1.2.0",
            "_view_count": null,
            "flex_flow": null,
            "width": null,
            "min_width": null,
            "border": null,
            "align_items": null,
            "bottom": null,
            "_model_module": "@jupyter-widgets/base",
            "top": null,
            "grid_column": null,
            "overflow_y": null,
            "overflow_x": null,
            "grid_auto_flow": null,
            "grid_area": null,
            "grid_template_columns": null,
            "flex": null,
            "_model_name": "LayoutModel",
            "justify_items": null,
            "grid_row": null,
            "max_height": null,
            "align_content": null,
            "visibility": null,
            "align_self": null,
            "height": null,
            "min_height": null,
            "padding": null,
            "grid_auto_rows": null,
            "grid_gap": null,
            "max_width": null,
            "order": null,
            "_view_module_version": "1.2.0",
            "grid_template_areas": null,
            "object_position": null,
            "object_fit": null,
            "grid_auto_columns": null,
            "margin": null,
            "display": null,
            "left": null
          }
        },
        "4d621cd439ab4e1d9219752b225eaee4": {
          "model_module": "@jupyter-widgets/base",
          "model_name": "LayoutModel",
          "model_module_version": "1.2.0",
          "state": {
            "_view_name": "LayoutView",
            "grid_template_rows": null,
            "right": null,
            "justify_content": null,
            "_view_module": "@jupyter-widgets/base",
            "overflow": null,
            "_model_module_version": "1.2.0",
            "_view_count": null,
            "flex_flow": null,
            "width": null,
            "min_width": null,
            "border": null,
            "align_items": null,
            "bottom": null,
            "_model_module": "@jupyter-widgets/base",
            "top": null,
            "grid_column": null,
            "overflow_y": null,
            "overflow_x": null,
            "grid_auto_flow": null,
            "grid_area": null,
            "grid_template_columns": null,
            "flex": null,
            "_model_name": "LayoutModel",
            "justify_items": null,
            "grid_row": null,
            "max_height": null,
            "align_content": null,
            "visibility": null,
            "align_self": null,
            "height": null,
            "min_height": null,
            "padding": null,
            "grid_auto_rows": null,
            "grid_gap": null,
            "max_width": null,
            "order": null,
            "_view_module_version": "1.2.0",
            "grid_template_areas": null,
            "object_position": null,
            "object_fit": null,
            "grid_auto_columns": null,
            "margin": null,
            "display": null,
            "left": null
          }
        },
        "c36ea677d6584dde992a966c4a6e0398": {
          "model_module": "@jupyter-widgets/controls",
          "model_name": "VBoxModel",
          "model_module_version": "1.5.0",
          "state": {
            "_view_name": "VBoxView",
            "_dom_classes": [],
            "_model_name": "VBoxModel",
            "_view_module": "@jupyter-widgets/controls",
            "_model_module_version": "1.5.0",
            "_view_count": null,
            "_view_module_version": "1.5.0",
            "box_style": "",
            "layout": "IPY_MODEL_a5cc58ede0bf4efba91a7fea2b2b7538",
            "_model_module": "@jupyter-widgets/controls",
            "children": [
              "IPY_MODEL_75a743a9dbbf43268f767e25618db1a3"
            ]
          }
        },
        "a5cc58ede0bf4efba91a7fea2b2b7538": {
          "model_module": "@jupyter-widgets/base",
          "model_name": "LayoutModel",
          "model_module_version": "1.2.0",
          "state": {
            "_view_name": "LayoutView",
            "grid_template_rows": null,
            "right": null,
            "justify_content": null,
            "_view_module": "@jupyter-widgets/base",
            "overflow": null,
            "_model_module_version": "1.2.0",
            "_view_count": null,
            "flex_flow": null,
            "width": null,
            "min_width": null,
            "border": "solid 2px green",
            "align_items": null,
            "bottom": null,
            "_model_module": "@jupyter-widgets/base",
            "top": null,
            "grid_column": null,
            "overflow_y": null,
            "overflow_x": null,
            "grid_auto_flow": null,
            "grid_area": null,
            "grid_template_columns": null,
            "flex": null,
            "_model_name": "LayoutModel",
            "justify_items": null,
            "grid_row": null,
            "max_height": null,
            "align_content": null,
            "visibility": null,
            "align_self": null,
            "height": null,
            "min_height": null,
            "padding": null,
            "grid_auto_rows": null,
            "grid_gap": null,
            "max_width": null,
            "order": null,
            "_view_module_version": "1.2.0",
            "grid_template_areas": null,
            "object_position": null,
            "object_fit": null,
            "grid_auto_columns": null,
            "margin": null,
            "display": "none",
            "left": null
          }
        },
        "75a743a9dbbf43268f767e25618db1a3": {
          "model_module": "plotlywidget",
          "model_name": "FigureModel",
          "model_module_version": "^1.4.0",
          "state": {
            "_view_name": "FigureView",
            "_py2js_animate": {},
            "_py2js_removeLayoutProps": {},
            "_last_trace_edit_id": 0,
            "_view_module": "plotlywidget",
            "_model_module_version": "^1.4.0",
            "_view_count": 0,
            "_js2py_relayout": {},
            "_py2js_moveTraces": {},
            "_py2js_addTraces": {},
            "_model_module": "plotlywidget",
            "_py2js_relayout": null,
            "_js2py_pointsCallback": {},
            "_js2py_update": {},
            "_js2py_restyle": {},
            "_py2js_removeTraceProps": {},
            "_py2js_deleteTraces": {},
            "_dom_classes": [],
            "_model_name": "FigureModel",
            "_layout": {},
            "_js2py_layoutDelta": {},
            "_py2js_update": {},
            "_data": [],
            "_config": {
              "plotlyServerURL": "https://plot.ly"
            },
            "_py2js_restyle": {},
            "_view_module_version": "^1.4.0",
            "_last_layout_edit_id": 0,
            "_js2py_traceDeltas": {}
          }
        },
        "8debb87b32d941d8ade43861917171c0": {
          "model_module": "@jupyter-widgets/controls",
          "model_name": "VBoxModel",
          "model_module_version": "1.5.0",
          "state": {
            "_view_name": "VBoxView",
            "_dom_classes": [
              "widget-interact"
            ],
            "_model_name": "VBoxModel",
            "_view_module": "@jupyter-widgets/controls",
            "_model_module_version": "1.5.0",
            "_view_count": null,
            "_view_module_version": "1.5.0",
            "box_style": "",
            "layout": "IPY_MODEL_548bd9a03ce84e3db6e94a5a0cf85ee8",
            "_model_module": "@jupyter-widgets/controls",
            "children": [
              "IPY_MODEL_4fd1d98d37594ee782fff15927b88099",
              "IPY_MODEL_2f9d9bc8c7394e99a3cbded2e4099652"
            ]
          }
        },
        "548bd9a03ce84e3db6e94a5a0cf85ee8": {
          "model_module": "@jupyter-widgets/base",
          "model_name": "LayoutModel",
          "model_module_version": "1.2.0",
          "state": {
            "_view_name": "LayoutView",
            "grid_template_rows": null,
            "right": null,
            "justify_content": null,
            "_view_module": "@jupyter-widgets/base",
            "overflow": null,
            "_model_module_version": "1.2.0",
            "_view_count": null,
            "flex_flow": null,
            "width": null,
            "min_width": null,
            "border": null,
            "align_items": null,
            "bottom": null,
            "_model_module": "@jupyter-widgets/base",
            "top": null,
            "grid_column": null,
            "overflow_y": null,
            "overflow_x": null,
            "grid_auto_flow": null,
            "grid_area": null,
            "grid_template_columns": null,
            "flex": null,
            "_model_name": "LayoutModel",
            "justify_items": null,
            "grid_row": null,
            "max_height": null,
            "align_content": null,
            "visibility": null,
            "align_self": null,
            "height": null,
            "min_height": null,
            "padding": null,
            "grid_auto_rows": null,
            "grid_gap": null,
            "max_width": null,
            "order": null,
            "_view_module_version": "1.2.0",
            "grid_template_areas": null,
            "object_position": null,
            "object_fit": null,
            "grid_auto_columns": null,
            "margin": null,
            "display": null,
            "left": null
          }
        },
        "4fd1d98d37594ee782fff15927b88099": {
          "model_module": "@jupyter-widgets/controls",
          "model_name": "IntSliderModel",
          "model_module_version": "1.5.0",
          "state": {
            "_view_name": "IntSliderView",
            "style": "IPY_MODEL_349d3b04ff194faf907fa8e3304b1142",
            "_dom_classes": [],
            "description": "n",
            "step": 1,
            "_model_name": "IntSliderModel",
            "orientation": "horizontal",
            "max": 30,
            "_view_module": "@jupyter-widgets/controls",
            "_model_module_version": "1.5.0",
            "value": 10,
            "_view_count": null,
            "disabled": false,
            "_view_module_version": "1.5.0",
            "min": -10,
            "continuous_update": true,
            "readout_format": "d",
            "description_tooltip": null,
            "readout": true,
            "_model_module": "@jupyter-widgets/controls",
            "layout": "IPY_MODEL_c835ab49ffc64742b39043a39c7a2e6d"
          }
        },
        "2f9d9bc8c7394e99a3cbded2e4099652": {
          "model_module": "@jupyter-widgets/output",
          "model_name": "OutputModel",
          "model_module_version": "1.0.0",
          "state": {
            "_view_name": "OutputView",
            "msg_id": "",
            "_dom_classes": [],
            "_model_name": "OutputModel",
            "outputs": [
              {
                "output_type": "display_data",
                "data": {
                  "text/html": "<html>\n<head><meta charset=\"utf-8\" /></head>\n<body>\n    <div>\n            <script src=\"https://cdnjs.cloudflare.com/ajax/libs/mathjax/2.7.5/MathJax.js?config=TeX-AMS-MML_SVG\"></script><script type=\"text/javascript\">if (window.MathJax) {MathJax.Hub.Config({SVG: {font: \"STIX-Web\"}});}</script>\n                <script type=\"text/javascript\">window.PlotlyConfig = {MathJaxConfig: 'local'};</script>\n        <script src=\"https://cdn.plot.ly/plotly-latest.min.js\"></script>    \n            <div id=\"484d7e6a-50d6-4ead-9c17-911c26e0f9c6\" class=\"plotly-graph-div\" style=\"height:525px; width:700px;\"></div>\n            <script type=\"text/javascript\">\n                \n                    window.PLOTLYENV=window.PLOTLYENV || {};\n                    \n                if (document.getElementById(\"484d7e6a-50d6-4ead-9c17-911c26e0f9c6\")) {\n                    Plotly.newPlot(\n                        '484d7e6a-50d6-4ead-9c17-911c26e0f9c6',\n                        [{\"hoverlabel\": {\"namelength\": 0}, \"hovertemplate\": \"<b>%{hovertext}</b><br><br>total_bedomning=GRON<br>personnummer=%{x}<br>varde2=%{marker.size}\", \"hovertext\": [8201113128.0, 8201113134.0, 8201113137.0, 8201113140.0, 8201113143.0, 8201113146.0, 8201113149.0, 8201113152.0, 8201113155.0], \"legendgroup\": \"total_bedomning=GRON\", \"marker\": {\"color\": \"#636efa\", \"size\": [4.5, 1.1, 1.0, 1.3, 0.91, 1.3, 1.5, 3.8, 1.1], \"sizemode\": \"area\", \"sizeref\": 0.00125, \"symbol\": \"circle\"}, \"mode\": \"markers\", \"name\": \"total_bedomning=GRON\", \"showlegend\": true, \"type\": \"scatter\", \"x\": [8201113128, 8201113134, 8201113137, 8201113140, 8201113143, 8201113146, 8201113149, 8201113152, 8201113155], \"xaxis\": \"x\", \"y\": [4.5, 1.1, 1.0, 1.3, 0.91, 1.3, 1.5, 3.8, 1.1], \"yaxis\": \"y\"}, {\"hoverlabel\": {\"namelength\": 0}, \"hovertemplate\": \"<b>%{hovertext}</b><br><br>total_bedomning=GUL<br>personnummer=%{x}<br>varde2=%{marker.size}\", \"hovertext\": [8201113131.0], \"legendgroup\": \"total_bedomning=GUL\", \"marker\": {\"color\": \"#EF553B\", \"size\": [0.76], \"sizemode\": \"area\", \"sizeref\": 0.00125, \"symbol\": \"circle\"}, \"mode\": \"markers\", \"name\": \"total_bedomning=GUL\", \"showlegend\": true, \"type\": \"scatter\", \"x\": [8201113131], \"xaxis\": \"x\", \"y\": [0.76], \"yaxis\": \"y\"}],\n                        {\"legend\": {\"itemsizing\": \"constant\", \"tracegroupgap\": 0}, \"margin\": {\"t\": 60}, \"template\": {\"data\": {\"bar\": [{\"error_x\": {\"color\": \"#2a3f5f\"}, \"error_y\": {\"color\": \"#2a3f5f\"}, \"marker\": {\"line\": {\"color\": \"#E5ECF6\", \"width\": 0.5}}, \"type\": \"bar\"}], \"barpolar\": [{\"marker\": {\"line\": {\"color\": \"#E5ECF6\", \"width\": 0.5}}, \"type\": \"barpolar\"}], \"carpet\": [{\"aaxis\": {\"endlinecolor\": \"#2a3f5f\", \"gridcolor\": \"white\", \"linecolor\": \"white\", \"minorgridcolor\": \"white\", \"startlinecolor\": \"#2a3f5f\"}, \"baxis\": {\"endlinecolor\": \"#2a3f5f\", \"gridcolor\": \"white\", \"linecolor\": \"white\", \"minorgridcolor\": \"white\", \"startlinecolor\": \"#2a3f5f\"}, \"type\": \"carpet\"}], \"choropleth\": [{\"colorbar\": {\"outlinewidth\": 0, \"ticks\": \"\"}, \"type\": \"choropleth\"}], \"contour\": [{\"colorbar\": {\"outlinewidth\": 0, \"ticks\": \"\"}, \"colorscale\": [[0.0, \"#0d0887\"], [0.1111111111111111, \"#46039f\"], [0.2222222222222222, \"#7201a8\"], [0.3333333333333333, \"#9c179e\"], [0.4444444444444444, \"#bd3786\"], [0.5555555555555556, \"#d8576b\"], [0.6666666666666666, \"#ed7953\"], [0.7777777777777778, \"#fb9f3a\"], [0.8888888888888888, \"#fdca26\"], [1.0, \"#f0f921\"]], \"type\": \"contour\"}], \"contourcarpet\": [{\"colorbar\": {\"outlinewidth\": 0, \"ticks\": \"\"}, \"type\": \"contourcarpet\"}], \"heatmap\": [{\"colorbar\": {\"outlinewidth\": 0, \"ticks\": \"\"}, \"colorscale\": [[0.0, \"#0d0887\"], [0.1111111111111111, \"#46039f\"], [0.2222222222222222, \"#7201a8\"], [0.3333333333333333, \"#9c179e\"], [0.4444444444444444, \"#bd3786\"], [0.5555555555555556, \"#d8576b\"], [0.6666666666666666, \"#ed7953\"], [0.7777777777777778, \"#fb9f3a\"], [0.8888888888888888, \"#fdca26\"], [1.0, \"#f0f921\"]], \"type\": \"heatmap\"}], \"heatmapgl\": [{\"colorbar\": {\"outlinewidth\": 0, \"ticks\": \"\"}, \"colorscale\": [[0.0, \"#0d0887\"], [0.1111111111111111, \"#46039f\"], [0.2222222222222222, \"#7201a8\"], [0.3333333333333333, \"#9c179e\"], [0.4444444444444444, \"#bd3786\"], [0.5555555555555556, \"#d8576b\"], [0.6666666666666666, \"#ed7953\"], [0.7777777777777778, \"#fb9f3a\"], [0.8888888888888888, \"#fdca26\"], [1.0, \"#f0f921\"]], \"type\": \"heatmapgl\"}], \"histogram\": [{\"marker\": {\"colorbar\": {\"outlinewidth\": 0, \"ticks\": \"\"}}, \"type\": \"histogram\"}], \"histogram2d\": [{\"colorbar\": {\"outlinewidth\": 0, \"ticks\": \"\"}, \"colorscale\": [[0.0, \"#0d0887\"], [0.1111111111111111, \"#46039f\"], [0.2222222222222222, \"#7201a8\"], [0.3333333333333333, \"#9c179e\"], [0.4444444444444444, \"#bd3786\"], [0.5555555555555556, \"#d8576b\"], [0.6666666666666666, \"#ed7953\"], [0.7777777777777778, \"#fb9f3a\"], [0.8888888888888888, \"#fdca26\"], [1.0, \"#f0f921\"]], \"type\": \"histogram2d\"}], \"histogram2dcontour\": [{\"colorbar\": {\"outlinewidth\": 0, \"ticks\": \"\"}, \"colorscale\": [[0.0, \"#0d0887\"], [0.1111111111111111, \"#46039f\"], [0.2222222222222222, \"#7201a8\"], [0.3333333333333333, \"#9c179e\"], [0.4444444444444444, \"#bd3786\"], [0.5555555555555556, \"#d8576b\"], [0.6666666666666666, \"#ed7953\"], [0.7777777777777778, \"#fb9f3a\"], [0.8888888888888888, \"#fdca26\"], [1.0, \"#f0f921\"]], \"type\": \"histogram2dcontour\"}], \"mesh3d\": [{\"colorbar\": {\"outlinewidth\": 0, \"ticks\": \"\"}, \"type\": \"mesh3d\"}], \"parcoords\": [{\"line\": {\"colorbar\": {\"outlinewidth\": 0, \"ticks\": \"\"}}, \"type\": \"parcoords\"}], \"pie\": [{\"automargin\": true, \"type\": \"pie\"}], \"scatter\": [{\"marker\": {\"colorbar\": {\"outlinewidth\": 0, \"ticks\": \"\"}}, \"type\": \"scatter\"}], \"scatter3d\": [{\"line\": {\"colorbar\": {\"outlinewidth\": 0, \"ticks\": \"\"}}, \"marker\": {\"colorbar\": {\"outlinewidth\": 0, \"ticks\": \"\"}}, \"type\": \"scatter3d\"}], \"scattercarpet\": [{\"marker\": {\"colorbar\": {\"outlinewidth\": 0, \"ticks\": \"\"}}, \"type\": \"scattercarpet\"}], \"scattergeo\": [{\"marker\": {\"colorbar\": {\"outlinewidth\": 0, \"ticks\": \"\"}}, \"type\": \"scattergeo\"}], \"scattergl\": [{\"marker\": {\"colorbar\": {\"outlinewidth\": 0, \"ticks\": \"\"}}, \"type\": \"scattergl\"}], \"scattermapbox\": [{\"marker\": {\"colorbar\": {\"outlinewidth\": 0, \"ticks\": \"\"}}, \"type\": \"scattermapbox\"}], \"scatterpolar\": [{\"marker\": {\"colorbar\": {\"outlinewidth\": 0, \"ticks\": \"\"}}, \"type\": \"scatterpolar\"}], \"scatterpolargl\": [{\"marker\": {\"colorbar\": {\"outlinewidth\": 0, \"ticks\": \"\"}}, \"type\": \"scatterpolargl\"}], \"scatterternary\": [{\"marker\": {\"colorbar\": {\"outlinewidth\": 0, \"ticks\": \"\"}}, \"type\": \"scatterternary\"}], \"surface\": [{\"colorbar\": {\"outlinewidth\": 0, \"ticks\": \"\"}, \"colorscale\": [[0.0, \"#0d0887\"], [0.1111111111111111, \"#46039f\"], [0.2222222222222222, \"#7201a8\"], [0.3333333333333333, \"#9c179e\"], [0.4444444444444444, \"#bd3786\"], [0.5555555555555556, \"#d8576b\"], [0.6666666666666666, \"#ed7953\"], [0.7777777777777778, \"#fb9f3a\"], [0.8888888888888888, \"#fdca26\"], [1.0, \"#f0f921\"]], \"type\": \"surface\"}], \"table\": [{\"cells\": {\"fill\": {\"color\": \"#EBF0F8\"}, \"line\": {\"color\": \"white\"}}, \"header\": {\"fill\": {\"color\": \"#C8D4E3\"}, \"line\": {\"color\": \"white\"}}, \"type\": \"table\"}]}, \"layout\": {\"annotationdefaults\": {\"arrowcolor\": \"#2a3f5f\", \"arrowhead\": 0, \"arrowwidth\": 1}, \"coloraxis\": {\"colorbar\": {\"outlinewidth\": 0, \"ticks\": \"\"}}, \"colorscale\": {\"diverging\": [[0, \"#8e0152\"], [0.1, \"#c51b7d\"], [0.2, \"#de77ae\"], [0.3, \"#f1b6da\"], [0.4, \"#fde0ef\"], [0.5, \"#f7f7f7\"], [0.6, \"#e6f5d0\"], [0.7, \"#b8e186\"], [0.8, \"#7fbc41\"], [0.9, \"#4d9221\"], [1, \"#276419\"]], \"sequential\": [[0.0, \"#0d0887\"], [0.1111111111111111, \"#46039f\"], [0.2222222222222222, \"#7201a8\"], [0.3333333333333333, \"#9c179e\"], [0.4444444444444444, \"#bd3786\"], [0.5555555555555556, \"#d8576b\"], [0.6666666666666666, \"#ed7953\"], [0.7777777777777778, \"#fb9f3a\"], [0.8888888888888888, \"#fdca26\"], [1.0, \"#f0f921\"]], \"sequentialminus\": [[0.0, \"#0d0887\"], [0.1111111111111111, \"#46039f\"], [0.2222222222222222, \"#7201a8\"], [0.3333333333333333, \"#9c179e\"], [0.4444444444444444, \"#bd3786\"], [0.5555555555555556, \"#d8576b\"], [0.6666666666666666, \"#ed7953\"], [0.7777777777777778, \"#fb9f3a\"], [0.8888888888888888, \"#fdca26\"], [1.0, \"#f0f921\"]]}, \"colorway\": [\"#636efa\", \"#EF553B\", \"#00cc96\", \"#ab63fa\", \"#FFA15A\", \"#19d3f3\", \"#FF6692\", \"#B6E880\", \"#FF97FF\", \"#FECB52\"], \"font\": {\"color\": \"#2a3f5f\"}, \"geo\": {\"bgcolor\": \"white\", \"lakecolor\": \"white\", \"landcolor\": \"#E5ECF6\", \"showlakes\": true, \"showland\": true, \"subunitcolor\": \"white\"}, \"hoverlabel\": {\"align\": \"left\"}, \"hovermode\": \"closest\", \"mapbox\": {\"style\": \"light\"}, \"paper_bgcolor\": \"white\", \"plot_bgcolor\": \"#E5ECF6\", \"polar\": {\"angularaxis\": {\"gridcolor\": \"white\", \"linecolor\": \"white\", \"ticks\": \"\"}, \"bgcolor\": \"#E5ECF6\", \"radialaxis\": {\"gridcolor\": \"white\", \"linecolor\": \"white\", \"ticks\": \"\"}}, \"scene\": {\"xaxis\": {\"backgroundcolor\": \"#E5ECF6\", \"gridcolor\": \"white\", \"gridwidth\": 2, \"linecolor\": \"white\", \"showbackground\": true, \"ticks\": \"\", \"zerolinecolor\": \"white\"}, \"yaxis\": {\"backgroundcolor\": \"#E5ECF6\", \"gridcolor\": \"white\", \"gridwidth\": 2, \"linecolor\": \"white\", \"showbackground\": true, \"ticks\": \"\", \"zerolinecolor\": \"white\"}, \"zaxis\": {\"backgroundcolor\": \"#E5ECF6\", \"gridcolor\": \"white\", \"gridwidth\": 2, \"linecolor\": \"white\", \"showbackground\": true, \"ticks\": \"\", \"zerolinecolor\": \"white\"}}, \"shapedefaults\": {\"line\": {\"color\": \"#2a3f5f\"}}, \"ternary\": {\"aaxis\": {\"gridcolor\": \"white\", \"linecolor\": \"white\", \"ticks\": \"\"}, \"baxis\": {\"gridcolor\": \"white\", \"linecolor\": \"white\", \"ticks\": \"\"}, \"bgcolor\": \"#E5ECF6\", \"caxis\": {\"gridcolor\": \"white\", \"linecolor\": \"white\", \"ticks\": \"\"}}, \"title\": {\"x\": 0.05}, \"xaxis\": {\"automargin\": true, \"gridcolor\": \"white\", \"linecolor\": \"white\", \"ticks\": \"\", \"title\": {\"standoff\": 15}, \"zerolinecolor\": \"white\", \"zerolinewidth\": 2}, \"yaxis\": {\"automargin\": true, \"gridcolor\": \"white\", \"linecolor\": \"white\", \"ticks\": \"\", \"title\": {\"standoff\": 15}, \"zerolinecolor\": \"white\", \"zerolinewidth\": 2}}}, \"title\": {\"text\": \"10 Highest values 2\"}, \"width\": 700, \"xaxis\": {\"anchor\": \"y\", \"domain\": [0.0, 1.0], \"title\": {\"text\": \"Patient\"}}, \"yaxis\": {\"anchor\": \"x\", \"domain\": [0.0, 1.0], \"title\": {\"text\": \"V\\u00e4rde 2\"}}},\n                        {\"responsive\": true}\n                    ).then(function(){\n                            \nvar gd = document.getElementById('484d7e6a-50d6-4ead-9c17-911c26e0f9c6');\nvar x = new MutationObserver(function (mutations, observer) {{\n        var display = window.getComputedStyle(gd).display;\n        if (!display || display === 'none') {{\n            console.log([gd, 'removed!']);\n            Plotly.purge(gd);\n            observer.disconnect();\n        }}\n}});\n\n// Listen for the removal of the full notebook cells\nvar notebookContainer = gd.closest('#notebook-container');\nif (notebookContainer) {{\n    x.observe(notebookContainer, {childList: true});\n}}\n\n// Listen for the clearing of the current output cell\nvar outputEl = gd.closest('.output');\nif (outputEl) {{\n    x.observe(outputEl, {childList: true});\n}}\n\n                        })\n                };\n                \n            </script>\n        </div>\n</body>\n</html>"
                },
                "metadata": {}
              }
            ],
            "_view_module": "@jupyter-widgets/output",
            "_model_module_version": "1.0.0",
            "_view_count": null,
            "_view_module_version": "1.0.0",
            "layout": "IPY_MODEL_4a9af1a06fde42539d32c792026759ef",
            "_model_module": "@jupyter-widgets/output"
          }
        },
        "349d3b04ff194faf907fa8e3304b1142": {
          "model_module": "@jupyter-widgets/controls",
          "model_name": "SliderStyleModel",
          "model_module_version": "1.5.0",
          "state": {
            "_view_name": "StyleView",
            "handle_color": null,
            "_model_name": "SliderStyleModel",
            "description_width": "",
            "_view_module": "@jupyter-widgets/base",
            "_model_module_version": "1.5.0",
            "_view_count": null,
            "_view_module_version": "1.2.0",
            "_model_module": "@jupyter-widgets/controls"
          }
        },
        "c835ab49ffc64742b39043a39c7a2e6d": {
          "model_module": "@jupyter-widgets/base",
          "model_name": "LayoutModel",
          "model_module_version": "1.2.0",
          "state": {
            "_view_name": "LayoutView",
            "grid_template_rows": null,
            "right": null,
            "justify_content": null,
            "_view_module": "@jupyter-widgets/base",
            "overflow": null,
            "_model_module_version": "1.2.0",
            "_view_count": null,
            "flex_flow": null,
            "width": null,
            "min_width": null,
            "border": null,
            "align_items": null,
            "bottom": null,
            "_model_module": "@jupyter-widgets/base",
            "top": null,
            "grid_column": null,
            "overflow_y": null,
            "overflow_x": null,
            "grid_auto_flow": null,
            "grid_area": null,
            "grid_template_columns": null,
            "flex": null,
            "_model_name": "LayoutModel",
            "justify_items": null,
            "grid_row": null,
            "max_height": null,
            "align_content": null,
            "visibility": null,
            "align_self": null,
            "height": null,
            "min_height": null,
            "padding": null,
            "grid_auto_rows": null,
            "grid_gap": null,
            "max_width": null,
            "order": null,
            "_view_module_version": "1.2.0",
            "grid_template_areas": null,
            "object_position": null,
            "object_fit": null,
            "grid_auto_columns": null,
            "margin": null,
            "display": null,
            "left": null
          }
        },
        "4a9af1a06fde42539d32c792026759ef": {
          "model_module": "@jupyter-widgets/base",
          "model_name": "LayoutModel",
          "model_module_version": "1.2.0",
          "state": {
            "_view_name": "LayoutView",
            "grid_template_rows": null,
            "right": null,
            "justify_content": null,
            "_view_module": "@jupyter-widgets/base",
            "overflow": null,
            "_model_module_version": "1.2.0",
            "_view_count": null,
            "flex_flow": null,
            "width": null,
            "min_width": null,
            "border": null,
            "align_items": null,
            "bottom": null,
            "_model_module": "@jupyter-widgets/base",
            "top": null,
            "grid_column": null,
            "overflow_y": null,
            "overflow_x": null,
            "grid_auto_flow": null,
            "grid_area": null,
            "grid_template_columns": null,
            "flex": null,
            "_model_name": "LayoutModel",
            "justify_items": null,
            "grid_row": null,
            "max_height": null,
            "align_content": null,
            "visibility": null,
            "align_self": null,
            "height": null,
            "min_height": null,
            "padding": null,
            "grid_auto_rows": null,
            "grid_gap": null,
            "max_width": null,
            "order": null,
            "_view_module_version": "1.2.0",
            "grid_template_areas": null,
            "object_position": null,
            "object_fit": null,
            "grid_auto_columns": null,
            "margin": null,
            "display": null,
            "left": null
          }
        },
        "c6346d19e8b0471a85276c7b291fe9d8": {
          "model_module": "@jupyter-widgets/controls",
          "model_name": "VBoxModel",
          "model_module_version": "1.5.0",
          "state": {
            "_view_name": "VBoxView",
            "_dom_classes": [],
            "_model_name": "VBoxModel",
            "_view_module": "@jupyter-widgets/controls",
            "_model_module_version": "1.5.0",
            "_view_count": null,
            "_view_module_version": "1.5.0",
            "box_style": "",
            "layout": "IPY_MODEL_49fcf50d7fb2448ba898140ef21f53a6",
            "_model_module": "@jupyter-widgets/controls",
            "children": [
              "IPY_MODEL_fbbbdd477e3545ba87df2a53b20db425"
            ]
          }
        },
        "49fcf50d7fb2448ba898140ef21f53a6": {
          "model_module": "@jupyter-widgets/base",
          "model_name": "LayoutModel",
          "model_module_version": "1.2.0",
          "state": {
            "_view_name": "LayoutView",
            "grid_template_rows": null,
            "right": null,
            "justify_content": null,
            "_view_module": "@jupyter-widgets/base",
            "overflow": null,
            "_model_module_version": "1.2.0",
            "_view_count": null,
            "flex_flow": null,
            "width": null,
            "min_width": null,
            "border": "solid 2px green",
            "align_items": null,
            "bottom": null,
            "_model_module": "@jupyter-widgets/base",
            "top": null,
            "grid_column": null,
            "overflow_y": null,
            "overflow_x": null,
            "grid_auto_flow": null,
            "grid_area": null,
            "grid_template_columns": null,
            "flex": null,
            "_model_name": "LayoutModel",
            "justify_items": null,
            "grid_row": null,
            "max_height": null,
            "align_content": null,
            "visibility": null,
            "align_self": null,
            "height": null,
            "min_height": null,
            "padding": null,
            "grid_auto_rows": null,
            "grid_gap": null,
            "max_width": null,
            "order": null,
            "_view_module_version": "1.2.0",
            "grid_template_areas": null,
            "object_position": null,
            "object_fit": null,
            "grid_auto_columns": null,
            "margin": null,
            "display": "none",
            "left": null
          }
        },
        "fbbbdd477e3545ba87df2a53b20db425": {
          "model_module": "plotlywidget",
          "model_name": "FigureModel",
          "model_module_version": "^1.4.0",
          "state": {
            "_view_name": "FigureView",
            "_py2js_animate": {},
            "_py2js_removeLayoutProps": {},
            "_last_trace_edit_id": 0,
            "_view_module": "plotlywidget",
            "_model_module_version": "^1.4.0",
            "_view_count": 0,
            "_js2py_relayout": {},
            "_py2js_moveTraces": {},
            "_py2js_addTraces": {},
            "_model_module": "plotlywidget",
            "_py2js_relayout": null,
            "_js2py_pointsCallback": {},
            "_js2py_update": {},
            "_js2py_restyle": {},
            "_py2js_removeTraceProps": {},
            "_py2js_deleteTraces": {},
            "_dom_classes": [],
            "_model_name": "FigureModel",
            "_layout": {},
            "_js2py_layoutDelta": {},
            "_py2js_update": {},
            "_data": [],
            "_config": {
              "plotlyServerURL": "https://plot.ly"
            },
            "_py2js_restyle": {},
            "_view_module_version": "^1.4.0",
            "_last_layout_edit_id": 0,
            "_js2py_traceDeltas": {}
          }
        }
      }
    }
  },
  "nbformat": 4,
  "nbformat_minor": 0
}